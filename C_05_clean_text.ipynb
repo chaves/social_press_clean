{
 "cells": [
  {
   "cell_type": "markdown",
   "metadata": {},
   "source": [
    "## Clean text"
   ]
  },
  {
   "cell_type": "code",
   "execution_count": 1,
   "metadata": {},
   "outputs": [
    {
     "name": "stdout",
     "output_type": "stream",
     "text": [
      "Reading twitter - 1grams ...\n",
      "Reading twitter - 2grams ...\n"
     ]
    },
    {
     "data": {
      "text/plain": [
       "'0.24.2'"
      ]
     },
     "execution_count": 1,
     "metadata": {},
     "output_type": "execute_result"
    },
    {
     "data": {
      "application/vnd.jupyter.widget-view+json": {
       "model_id": "3fe9d5fc539b464abea9bc1ad311d73c",
       "version_major": 2,
       "version_minor": 0
      },
      "text/plain": [
       "HBox(children=(IntProgress(value=1, bar_style='info', max=1), HTML(value='')))"
      ]
     },
     "metadata": {},
     "output_type": "display_data"
    },
    {
     "name": "stdout",
     "output_type": "stream",
     "text": [
      "\n"
     ]
    }
   ],
   "source": [
    "import pandas as pd\n",
    "from ftfy import fix_text\n",
    "import html\n",
    "import re\n",
    "import string\n",
    "\n",
    "from ekphrasis.classes.segmenter import Segmenter\n",
    "seg_tw = Segmenter(corpus=\"twitter\")\n",
    "\n",
    "from tqdm import tqdm, tqdm_notebook\n",
    "pd.__version__ # marche pas avec pandas 0.25 https://github.com/tqdm/tqdm/issues/780\n",
    "tqdm_notebook().pandas()"
   ]
  },
  {
   "cell_type": "code",
   "execution_count": 2,
   "metadata": {},
   "outputs": [],
   "source": [
    "INPUT_FILE_GZIP = './_sources_final/pickles/pression_sociale_rounds_1_2_3_corrected_search_str_opt.pickle.gzip'"
   ]
  },
  {
   "cell_type": "code",
   "execution_count": 3,
   "metadata": {},
   "outputs": [],
   "source": [
    "df = pd.read_pickle(INPUT_FILE_GZIP, compression='gzip')"
   ]
  },
  {
   "cell_type": "code",
   "execution_count": 4,
   "metadata": {},
   "outputs": [
    {
     "data": {
      "text/plain": [
       "15883627"
      ]
     },
     "execution_count": 4,
     "metadata": {},
     "output_type": "execute_result"
    }
   ],
   "source": [
    "len(df)"
   ]
  },
  {
   "cell_type": "code",
   "execution_count": 5,
   "metadata": {},
   "outputs": [
    {
     "data": {
      "text/plain": [
       "id                  int64\n",
       "conversation_id     int64\n",
       "date_end           object\n",
       "date_start         object\n",
       "datetime           object\n",
       "is_quote             bool\n",
       "is_reply             bool\n",
       "is_retweet           bool\n",
       "nbr_favorite        int64\n",
       "nbr_reply           int64\n",
       "nbr_retweet         int64\n",
       "search_string      object\n",
       "text               object\n",
       "user_id             int64\n",
       "user_name          object\n",
       "string_date        object\n",
       "dtype: object"
      ]
     },
     "execution_count": 5,
     "metadata": {},
     "output_type": "execute_result"
    }
   ],
   "source": [
    "# Check types are OK\n",
    "df.dtypes"
   ]
  },
  {
   "cell_type": "code",
   "execution_count": 7,
   "metadata": {},
   "outputs": [],
   "source": [
    "no_links_http = lambda tweet: re.sub(r'https?:\\/\\/(www\\.)?[-a-zA-Z0-9@:%._\\+~#=]{2,256}\\.[a-z]{2,6}\\b([-a-zA-Z0-9@:%_\\+.~#?&//=]*)', '', tweet, flags=re.MULTILINE) # no links\n",
    "no_links_no_http = lambda tweet: re.sub(r'[-a-zA-Z0-9@:%._\\+~#=]{2,256}\\.[a-z]{2,6}\\b([-a-zA-Z0-9@:%_\\+.~#?&//=]*)', '', tweet, flags=re.MULTILINE) # no links\n",
    "no_mentions = lambda tweet: re.sub(r\"@(\\w+)\", ' ', tweet, flags=re.MULTILINE)\n",
    "no_hasgtags = lambda tweet: re.sub(r\"#(\\w+)\", ' ', tweet, flags=re.MULTILINE)\n",
    "\n",
    "all_hasgtags = lambda tweet: re.findall(r\"#(\\w+)(\\s+#\\w+)?(\\s+#\\w+)?(\\s+#\\w+)?(\\s+#\\w+)?(\\s+#\\w+)?(\\s+#\\w+)?(\\s+#\\w+)?(\\s+#\\w+)?(\\s+#\\w+)?\", tweet)"
   ]
  },
  {
   "cell_type": "code",
   "execution_count": 8,
   "metadata": {},
   "outputs": [],
   "source": [
    "def get_first_hasgtag_only(tweet):\n",
    "    hasgtags = all_hasgtags(tweet)\n",
    "    for h in hasgtags:\n",
    "        premier_hashtag_seq = h[0]\n",
    "        hasgtag_ext = seg_tw.segment(premier_hashtag_seq)\n",
    "        tweet = tweet.replace('#{}'.format(premier_hashtag_seq),hasgtag_ext)\n",
    "    # on supprime tous les autres hastags\n",
    "    tweet = no_hasgtags(tweet)\n",
    "    return tweet"
   ]
  },
  {
   "cell_type": "code",
   "execution_count": 9,
   "metadata": {},
   "outputs": [],
   "source": [
    "def clean(tweet):\n",
    "    tweet = html.unescape(tweet) # Fix unescape html special caracters\n",
    "    tweet = fix_text(tweet) # Fix unicode\n",
    "    tweet = tweet.lower().strip() # Minuscules et sans espaces devant et derrière\n",
    "    tweet = no_links_http(tweet) # Pas de liens avec http\n",
    "    tweet = no_links_no_http(tweet) # Pas de liens sans http (e.g. www.tt.com)\n",
    "    tweet = tweet.replace('https', ' ').replace('http', ' ').replace('www', ' ') # ces résidus subsitent souvent\n",
    "    tweet = no_mentions(tweet) # Pas de mentions\n",
    "    tweet = get_first_hasgtag_only(tweet)\n",
    "    \n",
    "    no_punctiation = str.maketrans(string.punctuation, ' '*len(string.punctuation)) #map punctuation to space\n",
    "    no_digits = str.maketrans(string.digits, ' '*len(string.digits)) #map digits to space\n",
    "    tweet = tweet.translate(no_punctiation)\n",
    "    tweet = tweet.translate(no_digits)\n",
    "    tweet = ' '.join(tweet.split()) # no multiple whitespaces\n",
    "    return tweet"
   ]
  },
  {
   "cell_type": "code",
   "execution_count": 10,
   "metadata": {},
   "outputs": [
    {
     "data": {
      "application/vnd.jupyter.widget-view+json": {
       "model_id": "43adabb114ba4c1988ddbbe2557c4f5c",
       "version_major": 2,
       "version_minor": 0
      },
      "text/plain": [
       "HBox(children=(IntProgress(value=0, max=15883627), HTML(value='')))"
      ]
     },
     "metadata": {},
     "output_type": "display_data"
    },
    {
     "name": "stdout",
     "output_type": "stream",
     "text": [
      "\n"
     ]
    },
    {
     "data": {
      "text/html": [
       "<div>\n",
       "<style scoped>\n",
       "    .dataframe tbody tr th:only-of-type {\n",
       "        vertical-align: middle;\n",
       "    }\n",
       "\n",
       "    .dataframe tbody tr th {\n",
       "        vertical-align: top;\n",
       "    }\n",
       "\n",
       "    .dataframe thead th {\n",
       "        text-align: right;\n",
       "    }\n",
       "</style>\n",
       "<table border=\"1\" class=\"dataframe\">\n",
       "  <thead>\n",
       "    <tr style=\"text-align: right;\">\n",
       "      <th></th>\n",
       "      <th>id</th>\n",
       "      <th>conversation_id</th>\n",
       "      <th>date_end</th>\n",
       "      <th>date_start</th>\n",
       "      <th>datetime</th>\n",
       "      <th>is_quote</th>\n",
       "      <th>is_reply</th>\n",
       "      <th>is_retweet</th>\n",
       "      <th>nbr_favorite</th>\n",
       "      <th>nbr_reply</th>\n",
       "      <th>nbr_retweet</th>\n",
       "      <th>search_string</th>\n",
       "      <th>text</th>\n",
       "      <th>user_id</th>\n",
       "      <th>user_name</th>\n",
       "      <th>string_date</th>\n",
       "      <th>text_clean</th>\n",
       "    </tr>\n",
       "  </thead>\n",
       "  <tbody>\n",
       "    <tr>\n",
       "      <th>0</th>\n",
       "      <td>940606059626090496</td>\n",
       "      <td>940606059626090496</td>\n",
       "      <td>2018-02-25</td>\n",
       "      <td>2017-12-11</td>\n",
       "      <td>2017-12-12 16:35:34</td>\n",
       "      <td>False</td>\n",
       "      <td>False</td>\n",
       "      <td>False</td>\n",
       "      <td>3</td>\n",
       "      <td>0</td>\n",
       "      <td>2</td>\n",
       "      <td>Accord Healthcare</td>\n",
       "      <td>We talk exclusively to  Accord Healthcare 's E...</td>\n",
       "      <td>60939437</td>\n",
       "      <td>SupplyChainD</td>\n",
       "      <td>accordhealthcare_2017-12-11</td>\n",
       "      <td>we talk exclusively to accord healthcare s eu ...</td>\n",
       "    </tr>\n",
       "    <tr>\n",
       "      <th>1</th>\n",
       "      <td>940254856471896064</td>\n",
       "      <td>940254856471896064</td>\n",
       "      <td>2018-02-25</td>\n",
       "      <td>2017-12-11</td>\n",
       "      <td>2017-12-11 17:20:01</td>\n",
       "      <td>False</td>\n",
       "      <td>False</td>\n",
       "      <td>False</td>\n",
       "      <td>0</td>\n",
       "      <td>0</td>\n",
       "      <td>0</td>\n",
       "      <td>Accord Healthcare</td>\n",
       "      <td>\"The equitable/legal title conundrum and claim...</td>\n",
       "      <td>498639837</td>\n",
       "      <td>VennerShipley</td>\n",
       "      <td>accordhealthcare_2017-12-11</td>\n",
       "      <td>the equitable legal title conundrum and claimi...</td>\n",
       "    </tr>\n",
       "  </tbody>\n",
       "</table>\n",
       "</div>"
      ],
      "text/plain": [
       "                   id     conversation_id    date_end  date_start  \\\n",
       "0  940606059626090496  940606059626090496  2018-02-25  2017-12-11   \n",
       "1  940254856471896064  940254856471896064  2018-02-25  2017-12-11   \n",
       "\n",
       "              datetime  is_quote  is_reply  is_retweet  nbr_favorite  \\\n",
       "0  2017-12-12 16:35:34     False     False       False             3   \n",
       "1  2017-12-11 17:20:01     False     False       False             0   \n",
       "\n",
       "   nbr_reply  nbr_retweet      search_string  \\\n",
       "0          0            2  Accord Healthcare   \n",
       "1          0            0  Accord Healthcare   \n",
       "\n",
       "                                                text    user_id  \\\n",
       "0  We talk exclusively to  Accord Healthcare 's E...   60939437   \n",
       "1  \"The equitable/legal title conundrum and claim...  498639837   \n",
       "\n",
       "       user_name                  string_date  \\\n",
       "0   SupplyChainD  accordhealthcare_2017-12-11   \n",
       "1  VennerShipley  accordhealthcare_2017-12-11   \n",
       "\n",
       "                                          text_clean  \n",
       "0  we talk exclusively to accord healthcare s eu ...  \n",
       "1  the equitable legal title conundrum and claimi...  "
      ]
     },
     "execution_count": 10,
     "metadata": {},
     "output_type": "execute_result"
    }
   ],
   "source": [
    "df.loc[:,'text_clean'] = df.text.progress_apply(clean)\n",
    "df.head(2)"
   ]
  },
  {
   "cell_type": "code",
   "execution_count": 11,
   "metadata": {},
   "outputs": [],
   "source": [
    "# df.drop(['text'], axis=1, inplace=True)\n",
    "# df.head(2)\n",
    "# C'est mieux de garder même si cela prend plus de place"
   ]
  },
  {
   "cell_type": "code",
   "execution_count": 12,
   "metadata": {},
   "outputs": [],
   "source": [
    "OUTPUT_FILE_GZIP = './_sources_final/pickles/pression_sociale_rounds_1_2_3_corrected_search_str_opt_clean_text.pickle.gzip'"
   ]
  },
  {
   "cell_type": "code",
   "execution_count": 13,
   "metadata": {},
   "outputs": [],
   "source": [
    "df.to_pickle(OUTPUT_FILE_GZIP, compression='gzip')"
   ]
  },
  {
   "cell_type": "code",
   "execution_count": null,
   "metadata": {},
   "outputs": [],
   "source": []
  },
  {
   "cell_type": "code",
   "execution_count": null,
   "metadata": {},
   "outputs": [],
   "source": []
  }
 ],
 "metadata": {
  "kernelspec": {
   "display_name": "Python 3",
   "language": "python",
   "name": "python3"
  },
  "language_info": {
   "codemirror_mode": {
    "name": "ipython",
    "version": 3
   },
   "file_extension": ".py",
   "mimetype": "text/x-python",
   "name": "python",
   "nbconvert_exporter": "python",
   "pygments_lexer": "ipython3",
   "version": "3.6.8"
  }
 },
 "nbformat": 4,
 "nbformat_minor": 2
}
