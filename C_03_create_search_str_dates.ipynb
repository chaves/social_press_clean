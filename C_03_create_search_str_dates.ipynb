{
 "cells": [
  {
   "cell_type": "markdown",
   "metadata": {},
   "source": [
    "## Create a search string - date to group tweets to events"
   ]
  },
  {
   "cell_type": "code",
   "execution_count": 1,
   "metadata": {},
   "outputs": [],
   "source": [
    "import pandas as pd"
   ]
  },
  {
   "cell_type": "code",
   "execution_count": 2,
   "metadata": {},
   "outputs": [],
   "source": [
    "INPUT_FILE_GZIP = './_sources_final/pickles/pression_sociale_rounds_1_2_3_corrected.pickle.gzip'"
   ]
  },
  {
   "cell_type": "code",
   "execution_count": 3,
   "metadata": {},
   "outputs": [],
   "source": [
    "df = pd.read_pickle(INPUT_FILE_GZIP, compression='gzip')"
   ]
  },
  {
   "cell_type": "code",
   "execution_count": 4,
   "metadata": {},
   "outputs": [],
   "source": [
    "clean_string = lambda x: x.replace(' ', '').lower()\n",
    "string_date = lambda x, y: '{}_{}'.format(clean_string(x), clean_string(y))"
   ]
  },
  {
   "cell_type": "code",
   "execution_count": 5,
   "metadata": {},
   "outputs": [],
   "source": [
    "df['string_date'] = df.apply(lambda row: string_date(row['search_string'], row['date_start']), axis=1)"
   ]
  },
  {
   "cell_type": "code",
   "execution_count": 6,
   "metadata": {},
   "outputs": [
    {
     "data": {
      "text/html": [
       "<div>\n",
       "<style scoped>\n",
       "    .dataframe tbody tr th:only-of-type {\n",
       "        vertical-align: middle;\n",
       "    }\n",
       "\n",
       "    .dataframe tbody tr th {\n",
       "        vertical-align: top;\n",
       "    }\n",
       "\n",
       "    .dataframe thead th {\n",
       "        text-align: right;\n",
       "    }\n",
       "</style>\n",
       "<table border=\"1\" class=\"dataframe\">\n",
       "  <thead>\n",
       "    <tr style=\"text-align: right;\">\n",
       "      <th></th>\n",
       "      <th>ID</th>\n",
       "      <th>conversation_id</th>\n",
       "      <th>date_end</th>\n",
       "      <th>date_start</th>\n",
       "      <th>datetime</th>\n",
       "      <th>is_quote</th>\n",
       "      <th>is_reply</th>\n",
       "      <th>is_retweet</th>\n",
       "      <th>nbr_favorite</th>\n",
       "      <th>nbr_reply</th>\n",
       "      <th>nbr_retweet</th>\n",
       "      <th>search_string</th>\n",
       "      <th>text</th>\n",
       "      <th>url</th>\n",
       "      <th>user_id</th>\n",
       "      <th>usernameTweet</th>\n",
       "      <th>string_date</th>\n",
       "    </tr>\n",
       "  </thead>\n",
       "  <tbody>\n",
       "    <tr>\n",
       "      <th>0</th>\n",
       "      <td>940606059626090496</td>\n",
       "      <td>940606059626090496</td>\n",
       "      <td>2018-02-25</td>\n",
       "      <td>2017-12-11</td>\n",
       "      <td>2017-12-12 16:35:34</td>\n",
       "      <td>False</td>\n",
       "      <td>False</td>\n",
       "      <td>False</td>\n",
       "      <td>3</td>\n",
       "      <td>0</td>\n",
       "      <td>2</td>\n",
       "      <td>Accord Healthcare</td>\n",
       "      <td>We talk exclusively to  Accord Healthcare 's E...</td>\n",
       "      <td>/SupplyChainD/status/940606059626090496</td>\n",
       "      <td>60939437</td>\n",
       "      <td>SupplyChainD</td>\n",
       "      <td>accordhealthcare_2017-12-11</td>\n",
       "    </tr>\n",
       "    <tr>\n",
       "      <th>1</th>\n",
       "      <td>940254856471896064</td>\n",
       "      <td>940254856471896064</td>\n",
       "      <td>2018-02-25</td>\n",
       "      <td>2017-12-11</td>\n",
       "      <td>2017-12-11 17:20:01</td>\n",
       "      <td>False</td>\n",
       "      <td>False</td>\n",
       "      <td>False</td>\n",
       "      <td>0</td>\n",
       "      <td>0</td>\n",
       "      <td>0</td>\n",
       "      <td>Accord Healthcare</td>\n",
       "      <td>\"The equitable/legal title conundrum and claim...</td>\n",
       "      <td>/VennerShipley/status/940254856471896064</td>\n",
       "      <td>498639837</td>\n",
       "      <td>VennerShipley</td>\n",
       "      <td>accordhealthcare_2017-12-11</td>\n",
       "    </tr>\n",
       "  </tbody>\n",
       "</table>\n",
       "</div>"
      ],
      "text/plain": [
       "                   ID     conversation_id    date_end  date_start  \\\n",
       "0  940606059626090496  940606059626090496  2018-02-25  2017-12-11   \n",
       "1  940254856471896064  940254856471896064  2018-02-25  2017-12-11   \n",
       "\n",
       "              datetime  is_quote  is_reply  is_retweet  nbr_favorite  \\\n",
       "0  2017-12-12 16:35:34     False     False       False             3   \n",
       "1  2017-12-11 17:20:01     False     False       False             0   \n",
       "\n",
       "   nbr_reply  nbr_retweet      search_string  \\\n",
       "0          0            2  Accord Healthcare   \n",
       "1          0            0  Accord Healthcare   \n",
       "\n",
       "                                                text  \\\n",
       "0  We talk exclusively to  Accord Healthcare 's E...   \n",
       "1  \"The equitable/legal title conundrum and claim...   \n",
       "\n",
       "                                        url    user_id  usernameTweet  \\\n",
       "0   /SupplyChainD/status/940606059626090496   60939437   SupplyChainD   \n",
       "1  /VennerShipley/status/940254856471896064  498639837  VennerShipley   \n",
       "\n",
       "                   string_date  \n",
       "0  accordhealthcare_2017-12-11  \n",
       "1  accordhealthcare_2017-12-11  "
      ]
     },
     "execution_count": 6,
     "metadata": {},
     "output_type": "execute_result"
    }
   ],
   "source": [
    "df.head(2)"
   ]
  },
  {
   "cell_type": "code",
   "execution_count": 7,
   "metadata": {},
   "outputs": [],
   "source": [
    "OUTPUT_FILE_GZIP = './_sources_final/pickles/pression_sociale_rounds_1_2_3_corrected_search_str.pickle.gzip'"
   ]
  },
  {
   "cell_type": "code",
   "execution_count": 8,
   "metadata": {},
   "outputs": [],
   "source": [
    "df.to_pickle(OUTPUT_FILE_GZIP, compression='gzip')"
   ]
  },
  {
   "cell_type": "code",
   "execution_count": null,
   "metadata": {},
   "outputs": [],
   "source": []
  }
 ],
 "metadata": {
  "kernelspec": {
   "display_name": "Python 3",
   "language": "python",
   "name": "python3"
  },
  "language_info": {
   "codemirror_mode": {
    "name": "ipython",
    "version": 3
   },
   "file_extension": ".py",
   "mimetype": "text/x-python",
   "name": "python",
   "nbconvert_exporter": "python",
   "pygments_lexer": "ipython3",
   "version": "3.6.8"
  }
 },
 "nbformat": 4,
 "nbformat_minor": 2
}
