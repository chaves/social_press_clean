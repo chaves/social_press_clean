{
 "cells": [
  {
   "cell_type": "markdown",
   "metadata": {},
   "source": [
    "### Clean users and empty tweets"
   ]
  },
  {
   "cell_type": "code",
   "execution_count": 1,
   "metadata": {},
   "outputs": [
    {
     "data": {
      "text/plain": [
       "'0.24.2'"
      ]
     },
     "execution_count": 1,
     "metadata": {},
     "output_type": "execute_result"
    },
    {
     "data": {
      "application/vnd.jupyter.widget-view+json": {
       "model_id": "023e3def6f954fdcbd612ceb748f5676",
       "version_major": 2,
       "version_minor": 0
      },
      "text/plain": [
       "HBox(children=(IntProgress(value=1, bar_style='info', max=1), HTML(value='')))"
      ]
     },
     "metadata": {},
     "output_type": "display_data"
    },
    {
     "name": "stdout",
     "output_type": "stream",
     "text": [
      "\n"
     ]
    }
   ],
   "source": [
    "import pandas as pd\n",
    "pd.options.display.max_colwidth = 250\n",
    "from tqdm import tqdm, tqdm_notebook\n",
    "pd.__version__ # marche pas avec pandas 0.25 https://github.com/tqdm/tqdm/issues/780\n",
    "tqdm_notebook().pandas()"
   ]
  },
  {
   "cell_type": "code",
   "execution_count": 2,
   "metadata": {},
   "outputs": [],
   "source": [
    "INPUT_FILE_GZIP = './_sources_final/pickles/pression_sociale_rounds_1_2_3_corrected_search_str_opt_clean_text_dup100.pickle.gzip'"
   ]
  },
  {
   "cell_type": "code",
   "execution_count": 3,
   "metadata": {},
   "outputs": [],
   "source": [
    "df = pd.read_pickle(INPUT_FILE_GZIP, compression='gzip')"
   ]
  },
  {
   "cell_type": "code",
   "execution_count": 4,
   "metadata": {},
   "outputs": [
    {
     "data": {
      "text/plain": [
       "15883627"
      ]
     },
     "execution_count": 4,
     "metadata": {},
     "output_type": "execute_result"
    }
   ],
   "source": [
    "len(df)"
   ]
  },
  {
   "cell_type": "markdown",
   "metadata": {},
   "source": [
    "### Check users"
   ]
  },
  {
   "cell_type": "code",
   "execution_count": 5,
   "metadata": {
    "scrolled": true
   },
   "outputs": [
    {
     "data": {
      "text/html": [
       "<div>\n",
       "<style scoped>\n",
       "    .dataframe tbody tr th:only-of-type {\n",
       "        vertical-align: middle;\n",
       "    }\n",
       "\n",
       "    .dataframe tbody tr th {\n",
       "        vertical-align: top;\n",
       "    }\n",
       "\n",
       "    .dataframe thead th {\n",
       "        text-align: right;\n",
       "    }\n",
       "</style>\n",
       "<table border=\"1\" class=\"dataframe\">\n",
       "  <thead>\n",
       "    <tr style=\"text-align: right;\">\n",
       "      <th></th>\n",
       "      <th>id</th>\n",
       "      <th>conversation_id</th>\n",
       "      <th>date_end</th>\n",
       "      <th>date_start</th>\n",
       "      <th>datetime</th>\n",
       "      <th>is_quote</th>\n",
       "      <th>is_reply</th>\n",
       "      <th>is_retweet</th>\n",
       "      <th>nbr_favorite</th>\n",
       "      <th>nbr_reply</th>\n",
       "      <th>nbr_retweet</th>\n",
       "      <th>search_string</th>\n",
       "      <th>text</th>\n",
       "      <th>user_id</th>\n",
       "      <th>user_name</th>\n",
       "      <th>string_date</th>\n",
       "      <th>text_clean</th>\n",
       "      <th>dup_100</th>\n",
       "    </tr>\n",
       "  </thead>\n",
       "  <tbody>\n",
       "    <tr>\n",
       "      <th>9084156</th>\n",
       "      <td>849317161487273985</td>\n",
       "      <td>849317161487273985</td>\n",
       "      <td>2017-06-10</td>\n",
       "      <td>2017-03-26</td>\n",
       "      <td>2017-04-04 19:46:05</td>\n",
       "      <td>False</td>\n",
       "      <td>False</td>\n",
       "      <td>False</td>\n",
       "      <td>0</td>\n",
       "      <td>0</td>\n",
       "      <td>0</td>\n",
       "      <td>University of Manchester</td>\n",
       "      <td>Graphene sieve could make seawater drinkable - Researchers at the  University of Manchester  have developed a gra...  http:// ow.ly/jzq350aDr3Y</td>\n",
       "      <td>186552155</td>\n",
       "      <td>NaN</td>\n",
       "      <td>universityofmanchester_2017-03-26</td>\n",
       "      <td>graphene sieve could make seawater drinkable researchers at the university of manchester have developed a gra</td>\n",
       "      <td>False</td>\n",
       "    </tr>\n",
       "    <tr>\n",
       "      <th>12381963</th>\n",
       "      <td>936003218080960513</td>\n",
       "      <td>936003218080960513</td>\n",
       "      <td>2018-01-19</td>\n",
       "      <td>2017-11-04</td>\n",
       "      <td>2017-11-29 23:45:31</td>\n",
       "      <td>False</td>\n",
       "      <td>False</td>\n",
       "      <td>False</td>\n",
       "      <td>0</td>\n",
       "      <td>0</td>\n",
       "      <td>0</td>\n",
       "      <td>Toys R Us</td>\n",
       "      <td>Mold risk causes  Toys \"R\" Us  to recall 6,000 clay craft kits  http:// ow.ly/Jnmg50frOJT</td>\n",
       "      <td>186552155</td>\n",
       "      <td>NaN</td>\n",
       "      <td>toysrus_2017-11-04</td>\n",
       "      <td>mold risk causes toys r us to recall clay craft kits</td>\n",
       "      <td>False</td>\n",
       "    </tr>\n",
       "  </tbody>\n",
       "</table>\n",
       "</div>"
      ],
      "text/plain": [
       "                          id     conversation_id    date_end  date_start  \\\n",
       "9084156   849317161487273985  849317161487273985  2017-06-10  2017-03-26   \n",
       "12381963  936003218080960513  936003218080960513  2018-01-19  2017-11-04   \n",
       "\n",
       "                     datetime  is_quote  is_reply  is_retweet  nbr_favorite  \\\n",
       "9084156   2017-04-04 19:46:05     False     False       False             0   \n",
       "12381963  2017-11-29 23:45:31     False     False       False             0   \n",
       "\n",
       "          nbr_reply  nbr_retweet             search_string  \\\n",
       "9084156           0            0  University of Manchester   \n",
       "12381963          0            0                 Toys R Us   \n",
       "\n",
       "                                                                                                                                                       text  \\\n",
       "9084156   Graphene sieve could make seawater drinkable - Researchers at the  University of Manchester  have developed a gra...  http:// ow.ly/jzq350aDr3Y     \n",
       "12381963                                                        Mold risk causes  Toys \"R\" Us  to recall 6,000 clay craft kits  http:// ow.ly/Jnmg50frOJT     \n",
       "\n",
       "            user_id user_name                        string_date  \\\n",
       "9084156   186552155       NaN  universityofmanchester_2017-03-26   \n",
       "12381963  186552155       NaN                 toysrus_2017-11-04   \n",
       "\n",
       "                                                                                                             text_clean  \\\n",
       "9084156   graphene sieve could make seawater drinkable researchers at the university of manchester have developed a gra   \n",
       "12381963                                                           mold risk causes toys r us to recall clay craft kits   \n",
       "\n",
       "          dup_100  \n",
       "9084156     False  \n",
       "12381963    False  "
      ]
     },
     "execution_count": 5,
     "metadata": {},
     "output_type": "execute_result"
    }
   ],
   "source": [
    "#### Control user names - tweet texts\n",
    "df[df.user_name.isnull() == True]"
   ]
  },
  {
   "cell_type": "code",
   "execution_count": 6,
   "metadata": {},
   "outputs": [],
   "source": [
    "# Il y a un user dont le name est NA -> a été considéré comme null\n",
    "# On corrige cela\n",
    "df.at[9084156, 'user_name'] = 'NA'\n",
    "df.at[12381963, 'user_name'] = 'NA'"
   ]
  },
  {
   "cell_type": "code",
   "execution_count": 7,
   "metadata": {},
   "outputs": [
    {
     "data": {
      "text/html": [
       "<div>\n",
       "<style scoped>\n",
       "    .dataframe tbody tr th:only-of-type {\n",
       "        vertical-align: middle;\n",
       "    }\n",
       "\n",
       "    .dataframe tbody tr th {\n",
       "        vertical-align: top;\n",
       "    }\n",
       "\n",
       "    .dataframe thead th {\n",
       "        text-align: right;\n",
       "    }\n",
       "</style>\n",
       "<table border=\"1\" class=\"dataframe\">\n",
       "  <thead>\n",
       "    <tr style=\"text-align: right;\">\n",
       "      <th></th>\n",
       "      <th>id</th>\n",
       "      <th>conversation_id</th>\n",
       "      <th>date_end</th>\n",
       "      <th>date_start</th>\n",
       "      <th>datetime</th>\n",
       "      <th>is_quote</th>\n",
       "      <th>is_reply</th>\n",
       "      <th>is_retweet</th>\n",
       "      <th>nbr_favorite</th>\n",
       "      <th>nbr_reply</th>\n",
       "      <th>nbr_retweet</th>\n",
       "      <th>search_string</th>\n",
       "      <th>text</th>\n",
       "      <th>user_id</th>\n",
       "      <th>user_name</th>\n",
       "      <th>string_date</th>\n",
       "      <th>text_clean</th>\n",
       "      <th>dup_100</th>\n",
       "    </tr>\n",
       "  </thead>\n",
       "  <tbody>\n",
       "  </tbody>\n",
       "</table>\n",
       "</div>"
      ],
      "text/plain": [
       "Empty DataFrame\n",
       "Columns: [id, conversation_id, date_end, date_start, datetime, is_quote, is_reply, is_retweet, nbr_favorite, nbr_reply, nbr_retweet, search_string, text, user_id, user_name, string_date, text_clean, dup_100]\n",
       "Index: []"
      ]
     },
     "execution_count": 7,
     "metadata": {},
     "output_type": "execute_result"
    }
   ],
   "source": [
    "df[df.user_name.isnull() == True]"
   ]
  },
  {
   "cell_type": "code",
   "execution_count": 8,
   "metadata": {},
   "outputs": [
    {
     "data": {
      "text/html": [
       "<div>\n",
       "<style scoped>\n",
       "    .dataframe tbody tr th:only-of-type {\n",
       "        vertical-align: middle;\n",
       "    }\n",
       "\n",
       "    .dataframe tbody tr th {\n",
       "        vertical-align: top;\n",
       "    }\n",
       "\n",
       "    .dataframe thead th {\n",
       "        text-align: right;\n",
       "    }\n",
       "</style>\n",
       "<table border=\"1\" class=\"dataframe\">\n",
       "  <thead>\n",
       "    <tr style=\"text-align: right;\">\n",
       "      <th></th>\n",
       "      <th>id</th>\n",
       "      <th>conversation_id</th>\n",
       "      <th>date_end</th>\n",
       "      <th>date_start</th>\n",
       "      <th>datetime</th>\n",
       "      <th>is_quote</th>\n",
       "      <th>is_reply</th>\n",
       "      <th>is_retweet</th>\n",
       "      <th>nbr_favorite</th>\n",
       "      <th>nbr_reply</th>\n",
       "      <th>nbr_retweet</th>\n",
       "      <th>search_string</th>\n",
       "      <th>text</th>\n",
       "      <th>user_id</th>\n",
       "      <th>user_name</th>\n",
       "      <th>string_date</th>\n",
       "      <th>text_clean</th>\n",
       "      <th>dup_100</th>\n",
       "    </tr>\n",
       "  </thead>\n",
       "  <tbody>\n",
       "  </tbody>\n",
       "</table>\n",
       "</div>"
      ],
      "text/plain": [
       "Empty DataFrame\n",
       "Columns: [id, conversation_id, date_end, date_start, datetime, is_quote, is_reply, is_retweet, nbr_favorite, nbr_reply, nbr_retweet, search_string, text, user_id, user_name, string_date, text_clean, dup_100]\n",
       "Index: []"
      ]
     },
     "execution_count": 8,
     "metadata": {},
     "output_type": "execute_result"
    }
   ],
   "source": [
    "# Users vides\n",
    "df[df.user_name.str.strip() == '']"
   ]
  },
  {
   "cell_type": "markdown",
   "metadata": {},
   "source": [
    "### Check texts"
   ]
  },
  {
   "cell_type": "code",
   "execution_count": 9,
   "metadata": {
    "scrolled": false
   },
   "outputs": [
    {
     "name": "stdout",
     "output_type": "stream",
     "text": [
      "451\n"
     ]
    },
    {
     "data": {
      "text/html": [
       "<div>\n",
       "<style scoped>\n",
       "    .dataframe tbody tr th:only-of-type {\n",
       "        vertical-align: middle;\n",
       "    }\n",
       "\n",
       "    .dataframe tbody tr th {\n",
       "        vertical-align: top;\n",
       "    }\n",
       "\n",
       "    .dataframe thead th {\n",
       "        text-align: right;\n",
       "    }\n",
       "</style>\n",
       "<table border=\"1\" class=\"dataframe\">\n",
       "  <thead>\n",
       "    <tr style=\"text-align: right;\">\n",
       "      <th></th>\n",
       "      <th>id</th>\n",
       "      <th>conversation_id</th>\n",
       "      <th>date_end</th>\n",
       "      <th>date_start</th>\n",
       "      <th>datetime</th>\n",
       "      <th>is_quote</th>\n",
       "      <th>is_reply</th>\n",
       "      <th>is_retweet</th>\n",
       "      <th>nbr_favorite</th>\n",
       "      <th>nbr_reply</th>\n",
       "      <th>nbr_retweet</th>\n",
       "      <th>search_string</th>\n",
       "      <th>text</th>\n",
       "      <th>user_id</th>\n",
       "      <th>user_name</th>\n",
       "      <th>string_date</th>\n",
       "      <th>text_clean</th>\n",
       "      <th>dup_100</th>\n",
       "    </tr>\n",
       "  </thead>\n",
       "  <tbody>\n",
       "    <tr>\n",
       "      <th>54807</th>\n",
       "      <td>472525500070772736</td>\n",
       "      <td>472525500070772736</td>\n",
       "      <td>2014-06-28</td>\n",
       "      <td>2014-04-13</td>\n",
       "      <td>2014-05-31 01:50:32</td>\n",
       "      <td>False</td>\n",
       "      <td>False</td>\n",
       "      <td>False</td>\n",
       "      <td>0</td>\n",
       "      <td>0</td>\n",
       "      <td>0</td>\n",
       "      <td>Aston Martin</td>\n",
       "      <td>Aston......Martin .......Music.......Music</td>\n",
       "      <td>293821629</td>\n",
       "      <td>TRod_95</td>\n",
       "      <td>astonmartin_2014-04-13</td>\n",
       "      <td></td>\n",
       "      <td>True</td>\n",
       "    </tr>\n",
       "    <tr>\n",
       "      <th>72157</th>\n",
       "      <td>460925240449982465</td>\n",
       "      <td>460925240449982465</td>\n",
       "      <td>2014-06-28</td>\n",
       "      <td>2014-04-13</td>\n",
       "      <td>2014-04-29 01:35:15</td>\n",
       "      <td>False</td>\n",
       "      <td>False</td>\n",
       "      <td>False</td>\n",
       "      <td>2</td>\n",
       "      <td>0</td>\n",
       "      <td>0</td>\n",
       "      <td>Aston Martin</td>\n",
       "      <td>Aston....Martin ....Music</td>\n",
       "      <td>339313289</td>\n",
       "      <td>BillBoutachek</td>\n",
       "      <td>astonmartin_2014-04-13</td>\n",
       "      <td></td>\n",
       "      <td>True</td>\n",
       "    </tr>\n",
       "  </tbody>\n",
       "</table>\n",
       "</div>"
      ],
      "text/plain": [
       "                       id     conversation_id    date_end  date_start  \\\n",
       "54807  472525500070772736  472525500070772736  2014-06-28  2014-04-13   \n",
       "72157  460925240449982465  460925240449982465  2014-06-28  2014-04-13   \n",
       "\n",
       "                  datetime  is_quote  is_reply  is_retweet  nbr_favorite  \\\n",
       "54807  2014-05-31 01:50:32     False     False       False             0   \n",
       "72157  2014-04-29 01:35:15     False     False       False             2   \n",
       "\n",
       "       nbr_reply  nbr_retweet search_string  \\\n",
       "54807          0            0  Aston Martin   \n",
       "72157          0            0  Aston Martin   \n",
       "\n",
       "                                              text    user_id      user_name  \\\n",
       "54807  Aston......Martin .......Music.......Music   293821629        TRod_95   \n",
       "72157                    Aston....Martin ....Music  339313289  BillBoutachek   \n",
       "\n",
       "                  string_date text_clean  dup_100  \n",
       "54807  astonmartin_2014-04-13                True  \n",
       "72157  astonmartin_2014-04-13                True  "
      ]
     },
     "execution_count": 9,
     "metadata": {},
     "output_type": "execute_result"
    }
   ],
   "source": [
    "# textes vides\n",
    "vides = df[df.text_clean.str.strip() == '']\n",
    "print(len(vides))\n",
    "vides.head(2)"
   ]
  },
  {
   "cell_type": "code",
   "execution_count": 10,
   "metadata": {},
   "outputs": [],
   "source": [
    "df = df.drop(df[df.text_clean.str.strip() == ''].index)"
   ]
  },
  {
   "cell_type": "code",
   "execution_count": 11,
   "metadata": {},
   "outputs": [
    {
     "data": {
      "text/plain": [
       "0"
      ]
     },
     "execution_count": 11,
     "metadata": {},
     "output_type": "execute_result"
    }
   ],
   "source": [
    "len(df[df.text_clean.str.strip() == ''])"
   ]
  },
  {
   "cell_type": "markdown",
   "metadata": {},
   "source": [
    "### Save the file"
   ]
  },
  {
   "cell_type": "code",
   "execution_count": 12,
   "metadata": {},
   "outputs": [],
   "source": [
    "OUTPUT_FILE_GZIP = './_sources_final/pickles/pression_sociale_rounds_1_2_3_corrected_search_str_opt_clean_text_dup100_clean.pickle.gzip'"
   ]
  },
  {
   "cell_type": "code",
   "execution_count": 13,
   "metadata": {},
   "outputs": [],
   "source": [
    "df.to_pickle(OUTPUT_FILE_GZIP, compression='gzip')"
   ]
  },
  {
   "cell_type": "code",
   "execution_count": null,
   "metadata": {},
   "outputs": [],
   "source": []
  }
 ],
 "metadata": {
  "kernelspec": {
   "display_name": "Python 3",
   "language": "python",
   "name": "python3"
  },
  "language_info": {
   "codemirror_mode": {
    "name": "ipython",
    "version": 3
   },
   "file_extension": ".py",
   "mimetype": "text/x-python",
   "name": "python",
   "nbconvert_exporter": "python",
   "pygments_lexer": "ipython3",
   "version": "3.6.8"
  }
 },
 "nbformat": 4,
 "nbformat_minor": 2
}
