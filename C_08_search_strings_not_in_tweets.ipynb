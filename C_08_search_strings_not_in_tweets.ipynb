{
 "cells": [
  {
   "cell_type": "markdown",
   "metadata": {},
   "source": [
    "### Tag tweets with search strings not in text but in user names - deletete others"
   ]
  },
  {
   "cell_type": "code",
   "execution_count": 1,
   "metadata": {},
   "outputs": [
    {
     "data": {
      "text/plain": [
       "'0.24.2'"
      ]
     },
     "execution_count": 1,
     "metadata": {},
     "output_type": "execute_result"
    },
    {
     "data": {
      "application/vnd.jupyter.widget-view+json": {
       "model_id": "e05cb58232744497b010d6db54196c6b",
       "version_major": 2,
       "version_minor": 0
      },
      "text/plain": [
       "HBox(children=(IntProgress(value=1, bar_style='info', max=1), HTML(value='')))"
      ]
     },
     "metadata": {},
     "output_type": "display_data"
    },
    {
     "name": "stdout",
     "output_type": "stream",
     "text": [
      "\n"
     ]
    }
   ],
   "source": [
    "import pandas as pd\n",
    "from tqdm import tqdm, tqdm_notebook\n",
    "pd.options.display.max_colwidth = 250\n",
    "pd.__version__ # marche pas avec pandas 0.25 https://github.com/tqdm/tqdm/issues/780\n",
    "tqdm_notebook().pandas()"
   ]
  },
  {
   "cell_type": "code",
   "execution_count": 2,
   "metadata": {},
   "outputs": [],
   "source": [
    "INPUT_FILE_GZIP = './_sources_final/pickles/pression_sociale_rounds_1_2_3_corrected_search_str_opt_clean_text_dup100_clean.pickle.gzip'"
   ]
  },
  {
   "cell_type": "code",
   "execution_count": 3,
   "metadata": {},
   "outputs": [],
   "source": [
    "df = pd.read_pickle(INPUT_FILE_GZIP, compression='gzip')"
   ]
  },
  {
   "cell_type": "code",
   "execution_count": 4,
   "metadata": {},
   "outputs": [
    {
     "data": {
      "text/plain": [
       "15882669"
      ]
     },
     "execution_count": 4,
     "metadata": {},
     "output_type": "execute_result"
    }
   ],
   "source": [
    "len(df)"
   ]
  },
  {
   "cell_type": "code",
   "execution_count": 5,
   "metadata": {},
   "outputs": [
    {
     "data": {
      "text/html": [
       "<div>\n",
       "<style scoped>\n",
       "    .dataframe tbody tr th:only-of-type {\n",
       "        vertical-align: middle;\n",
       "    }\n",
       "\n",
       "    .dataframe tbody tr th {\n",
       "        vertical-align: top;\n",
       "    }\n",
       "\n",
       "    .dataframe thead th {\n",
       "        text-align: right;\n",
       "    }\n",
       "</style>\n",
       "<table border=\"1\" class=\"dataframe\">\n",
       "  <thead>\n",
       "    <tr style=\"text-align: right;\">\n",
       "      <th></th>\n",
       "      <th>id</th>\n",
       "      <th>conversation_id</th>\n",
       "      <th>date_end</th>\n",
       "      <th>date_start</th>\n",
       "      <th>datetime</th>\n",
       "      <th>is_quote</th>\n",
       "      <th>is_reply</th>\n",
       "      <th>is_retweet</th>\n",
       "      <th>nbr_favorite</th>\n",
       "      <th>nbr_reply</th>\n",
       "      <th>nbr_retweet</th>\n",
       "      <th>search_string</th>\n",
       "      <th>text</th>\n",
       "      <th>user_id</th>\n",
       "      <th>user_name</th>\n",
       "      <th>string_date</th>\n",
       "      <th>text_clean</th>\n",
       "      <th>dup_100</th>\n",
       "    </tr>\n",
       "  </thead>\n",
       "  <tbody>\n",
       "    <tr>\n",
       "      <th>0</th>\n",
       "      <td>940606059626090496</td>\n",
       "      <td>940606059626090496</td>\n",
       "      <td>2018-02-25</td>\n",
       "      <td>2017-12-11</td>\n",
       "      <td>2017-12-12 16:35:34</td>\n",
       "      <td>False</td>\n",
       "      <td>False</td>\n",
       "      <td>False</td>\n",
       "      <td>3</td>\n",
       "      <td>0</td>\n",
       "      <td>2</td>\n",
       "      <td>Accord Healthcare</td>\n",
       "      <td>We talk exclusively to  Accord Healthcare 's EU Supply Operations Director about the firms #supplychain  competence and agility in the crowded #healthcare  market  http:// bit.ly/2z3W22g   pic.twitter.com/jKuLRbUQqT</td>\n",
       "      <td>60939437</td>\n",
       "      <td>SupplyChainD</td>\n",
       "      <td>accordhealthcare_2017-12-11</td>\n",
       "      <td>we talk exclusively to accord healthcare s eu supply operations director about the firms supply chain competence and agility in the crowded healthcare market</td>\n",
       "      <td>False</td>\n",
       "    </tr>\n",
       "    <tr>\n",
       "      <th>1</th>\n",
       "      <td>940254856471896064</td>\n",
       "      <td>940254856471896064</td>\n",
       "      <td>2018-02-25</td>\n",
       "      <td>2017-12-11</td>\n",
       "      <td>2017-12-11 17:20:01</td>\n",
       "      <td>False</td>\n",
       "      <td>False</td>\n",
       "      <td>False</td>\n",
       "      <td>0</td>\n",
       "      <td>0</td>\n",
       "      <td>0</td>\n",
       "      <td>Accord Healthcare</td>\n",
       "      <td>\"The equitable/legal title conundrum and claiming priority in #patent  applications\" \\n\\nRead our article following the  Accord Healthcare  Limited v Research Corporation Technologies Inc, 2017 decision:  http:// bit.ly/2yeZfrT    \\n\\n#priority  ...</td>\n",
       "      <td>498639837</td>\n",
       "      <td>VennerShipley</td>\n",
       "      <td>accordhealthcare_2017-12-11</td>\n",
       "      <td>the equitable legal title conundrum and claiming priority in patent applications read our article following the accord healthcare limited v research corporation technologies inc decision priority</td>\n",
       "      <td>False</td>\n",
       "    </tr>\n",
       "  </tbody>\n",
       "</table>\n",
       "</div>"
      ],
      "text/plain": [
       "                   id     conversation_id    date_end  date_start  \\\n",
       "0  940606059626090496  940606059626090496  2018-02-25  2017-12-11   \n",
       "1  940254856471896064  940254856471896064  2018-02-25  2017-12-11   \n",
       "\n",
       "              datetime  is_quote  is_reply  is_retweet  nbr_favorite  \\\n",
       "0  2017-12-12 16:35:34     False     False       False             3   \n",
       "1  2017-12-11 17:20:01     False     False       False             0   \n",
       "\n",
       "   nbr_reply  nbr_retweet      search_string  \\\n",
       "0          0            2  Accord Healthcare   \n",
       "1          0            0  Accord Healthcare   \n",
       "\n",
       "                                                                                                                                                                                                                                                        text  \\\n",
       "0                                    We talk exclusively to  Accord Healthcare 's EU Supply Operations Director about the firms #supplychain  competence and agility in the crowded #healthcare  market  http:// bit.ly/2z3W22g   pic.twitter.com/jKuLRbUQqT   \n",
       "1  \"The equitable/legal title conundrum and claiming priority in #patent  applications\" \\n\\nRead our article following the  Accord Healthcare  Limited v Research Corporation Technologies Inc, 2017 decision:  http:// bit.ly/2yeZfrT    \\n\\n#priority  ...   \n",
       "\n",
       "     user_id      user_name                  string_date  \\\n",
       "0   60939437   SupplyChainD  accordhealthcare_2017-12-11   \n",
       "1  498639837  VennerShipley  accordhealthcare_2017-12-11   \n",
       "\n",
       "                                                                                                                                                                                            text_clean  \\\n",
       "0                                        we talk exclusively to accord healthcare s eu supply operations director about the firms supply chain competence and agility in the crowded healthcare market   \n",
       "1  the equitable legal title conundrum and claiming priority in patent applications read our article following the accord healthcare limited v research corporation technologies inc decision priority   \n",
       "\n",
       "   dup_100  \n",
       "0    False  \n",
       "1    False  "
      ]
     },
     "execution_count": 5,
     "metadata": {},
     "output_type": "execute_result"
    }
   ],
   "source": [
    "df.head(2)"
   ]
  },
  {
   "cell_type": "code",
   "execution_count": 6,
   "metadata": {},
   "outputs": [],
   "source": [
    "# on cherche si tous les éléments du search string sont dans le texte\n",
    "# la raison est que les termes #Bae #Systems, Bae   Systems, Bae #Systems doivent être valables pour Bae Systems\n",
    "# la recherche sur twitter fonctionne comme cela\n",
    "is_in_str = lambda txt, st : all([True if txt.lower().find(s.lower()) != -1 else False for s in st.split()])"
   ]
  },
  {
   "cell_type": "markdown",
   "metadata": {},
   "source": [
    "#### Check if search string is not in text"
   ]
  },
  {
   "cell_type": "code",
   "execution_count": 7,
   "metadata": {},
   "outputs": [
    {
     "data": {
      "application/vnd.jupyter.widget-view+json": {
       "model_id": "c04a42a9459a4820b7b590b90b2f3b62",
       "version_major": 2,
       "version_minor": 0
      },
      "text/plain": [
       "HBox(children=(IntProgress(value=0, max=15882669), HTML(value='')))"
      ]
     },
     "metadata": {},
     "output_type": "display_data"
    },
    {
     "name": "stdout",
     "output_type": "stream",
     "text": [
      "\n"
     ]
    }
   ],
   "source": [
    "df.loc[:,'str_in_text'] = df.progress_apply(lambda row: is_in_str(row['text'],row['search_string']), axis=1)"
   ]
  },
  {
   "cell_type": "code",
   "execution_count": 8,
   "metadata": {},
   "outputs": [
    {
     "data": {
      "text/plain": [
       "1624294"
      ]
     },
     "execution_count": 8,
     "metadata": {},
     "output_type": "execute_result"
    }
   ],
   "source": [
    "len(df[df.str_in_text == False])"
   ]
  },
  {
   "cell_type": "markdown",
   "metadata": {},
   "source": [
    "#### Check if search string is in user_name"
   ]
  },
  {
   "cell_type": "code",
   "execution_count": null,
   "metadata": {},
   "outputs": [
    {
     "data": {
      "application/vnd.jupyter.widget-view+json": {
       "model_id": "32b480b46fc54279b264247c452190e0",
       "version_major": 2,
       "version_minor": 0
      },
      "text/plain": [
       "HBox(children=(IntProgress(value=0, max=15882669), HTML(value='')))"
      ]
     },
     "metadata": {},
     "output_type": "display_data"
    }
   ],
   "source": [
    "df.loc[:,'str_in_user'] = df.progress_apply(lambda row: is_in_str(row['user_name'],row['search_string']), axis=1)"
   ]
  },
  {
   "cell_type": "code",
   "execution_count": null,
   "metadata": {},
   "outputs": [],
   "source": [
    "len(df[df.str_in_user == True])"
   ]
  },
  {
   "cell_type": "markdown",
   "metadata": {},
   "source": [
    "#### Check no matches"
   ]
  },
  {
   "cell_type": "code",
   "execution_count": null,
   "metadata": {},
   "outputs": [],
   "source": [
    "no_matches = df[(df['str_in_text'] == False) & (df['str_in_user'] == False)]"
   ]
  },
  {
   "cell_type": "code",
   "execution_count": null,
   "metadata": {},
   "outputs": [],
   "source": [
    "len(no_matches)"
   ]
  },
  {
   "cell_type": "raw",
   "metadata": {},
   "source": []
  },
  {
   "cell_type": "markdown",
   "metadata": {},
   "source": [
    "#### Save file"
   ]
  },
  {
   "cell_type": "code",
   "execution_count": null,
   "metadata": {},
   "outputs": [],
   "source": [
    "OUTPUT_FILE_GZIP = './_sources_final/pickles/pression_sociale_rounds_1_2_3_corrected_search_str_opt_clean_text_dup100_clean_matches.pickle.gzip'"
   ]
  },
  {
   "cell_type": "code",
   "execution_count": null,
   "metadata": {},
   "outputs": [],
   "source": [
    "df.to_pickle(OUTPUT_FILE_GZIP, compression='gzip')"
   ]
  },
  {
   "cell_type": "code",
   "execution_count": null,
   "metadata": {},
   "outputs": [],
   "source": [
    "df.dtypes"
   ]
  },
  {
   "cell_type": "code",
   "execution_count": null,
   "metadata": {},
   "outputs": [],
   "source": []
  },
  {
   "cell_type": "code",
   "execution_count": null,
   "metadata": {},
   "outputs": [],
   "source": []
  },
  {
   "cell_type": "code",
   "execution_count": null,
   "metadata": {},
   "outputs": [],
   "source": [
    "df = pd.read_pickle(OUTPUT_FILE_GZIP, compression='gzip')"
   ]
  },
  {
   "cell_type": "code",
   "execution_count": null,
   "metadata": {},
   "outputs": [],
   "source": []
  },
  {
   "cell_type": "code",
   "execution_count": null,
   "metadata": {},
   "outputs": [],
   "source": [
    "OUTPUT_CONTROL_FILE = './_sources_final/controls/04_no_matches.xls'"
   ]
  },
  {
   "cell_type": "code",
   "execution_count": null,
   "metadata": {},
   "outputs": [],
   "source": [
    "no_matches[:1000].to_excel(OUTPUT_CONTROL_FILE)"
   ]
  }
 ],
 "metadata": {
  "kernelspec": {
   "display_name": "Python 3",
   "language": "python",
   "name": "python3"
  },
  "language_info": {
   "codemirror_mode": {
    "name": "ipython",
    "version": 3
   },
   "file_extension": ".py",
   "mimetype": "text/x-python",
   "name": "python",
   "nbconvert_exporter": "python",
   "pygments_lexer": "ipython3",
   "version": "3.6.8"
  }
 },
 "nbformat": 4,
 "nbformat_minor": 2
}
