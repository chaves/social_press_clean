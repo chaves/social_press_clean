{
 "cells": [
  {
   "cell_type": "markdown",
   "metadata": {},
   "source": [
    "## Merges the tweets database with the related events ids"
   ]
  },
  {
   "cell_type": "code",
   "execution_count": 1,
   "metadata": {},
   "outputs": [
    {
     "data": {
      "text/plain": [
       "'0.24.2'"
      ]
     },
     "execution_count": 1,
     "metadata": {},
     "output_type": "execute_result"
    },
    {
     "data": {
      "application/vnd.jupyter.widget-view+json": {
       "model_id": "3c8efa955ffe4fd09aca132e90d68dbf",
       "version_major": 2,
       "version_minor": 0
      },
      "text/plain": [
       "HBox(children=(IntProgress(value=1, bar_style='info', max=1), HTML(value='')))"
      ]
     },
     "metadata": {},
     "output_type": "display_data"
    },
    {
     "name": "stdout",
     "output_type": "stream",
     "text": [
      "\n"
     ]
    }
   ],
   "source": [
    "import pandas as pd\n",
    "from datetime import datetime as DateTime, timedelta as TimeDelta, date as Date\n",
    "from tqdm import tqdm, tqdm_notebook\n",
    "pd.options.display.max_colwidth = 250\n",
    "pd.__version__ # marche pas avec pandas 0.25 https://github.com/tqdm/tqdm/issues/780\n",
    "tqdm_notebook().pandas()"
   ]
  },
  {
   "cell_type": "code",
   "execution_count": 2,
   "metadata": {},
   "outputs": [],
   "source": [
    "INPUT_FILE_GZIP = './_sources_final/pickles/pression_sociale_rounds_1_2_3_corrected_search_str_opt_clean_text_dup100_clean_matches.pickle.gzip'"
   ]
  },
  {
   "cell_type": "code",
   "execution_count": 3,
   "metadata": {},
   "outputs": [],
   "source": [
    "df = pd.read_pickle(INPUT_FILE_GZIP, compression='gzip')"
   ]
  },
  {
   "cell_type": "code",
   "execution_count": 4,
   "metadata": {},
   "outputs": [
    {
     "data": {
      "text/plain": [
       "15882669"
      ]
     },
     "execution_count": 4,
     "metadata": {},
     "output_type": "execute_result"
    }
   ],
   "source": [
    "len(df)"
   ]
  },
  {
   "cell_type": "code",
   "execution_count": 5,
   "metadata": {},
   "outputs": [
    {
     "data": {
      "text/html": [
       "<div>\n",
       "<style scoped>\n",
       "    .dataframe tbody tr th:only-of-type {\n",
       "        vertical-align: middle;\n",
       "    }\n",
       "\n",
       "    .dataframe tbody tr th {\n",
       "        vertical-align: top;\n",
       "    }\n",
       "\n",
       "    .dataframe thead th {\n",
       "        text-align: right;\n",
       "    }\n",
       "</style>\n",
       "<table border=\"1\" class=\"dataframe\">\n",
       "  <thead>\n",
       "    <tr style=\"text-align: right;\">\n",
       "      <th></th>\n",
       "      <th>id</th>\n",
       "      <th>conversation_id</th>\n",
       "      <th>date_end</th>\n",
       "      <th>date_start</th>\n",
       "      <th>datetime</th>\n",
       "      <th>is_quote</th>\n",
       "      <th>is_reply</th>\n",
       "      <th>is_retweet</th>\n",
       "      <th>nbr_favorite</th>\n",
       "      <th>nbr_reply</th>\n",
       "      <th>...</th>\n",
       "      <th>search_string</th>\n",
       "      <th>text</th>\n",
       "      <th>user_id</th>\n",
       "      <th>user_name</th>\n",
       "      <th>string_date</th>\n",
       "      <th>text_clean</th>\n",
       "      <th>dup_100</th>\n",
       "      <th>str_in_text</th>\n",
       "      <th>str_in_user</th>\n",
       "      <th>str_in_conv</th>\n",
       "    </tr>\n",
       "  </thead>\n",
       "  <tbody>\n",
       "    <tr>\n",
       "      <th>0</th>\n",
       "      <td>940606059626090496</td>\n",
       "      <td>940606059626090496</td>\n",
       "      <td>2018-02-25</td>\n",
       "      <td>2017-12-11</td>\n",
       "      <td>2017-12-12 16:35:34</td>\n",
       "      <td>False</td>\n",
       "      <td>False</td>\n",
       "      <td>False</td>\n",
       "      <td>3</td>\n",
       "      <td>0</td>\n",
       "      <td>...</td>\n",
       "      <td>Accord Healthcare</td>\n",
       "      <td>We talk exclusively to  Accord Healthcare 's EU Supply Operations Director about the firms #supplychain  competence and agility in the crowded #healthcare  market  http:// bit.ly/2z3W22g   pic.twitter.com/jKuLRbUQqT</td>\n",
       "      <td>60939437</td>\n",
       "      <td>SupplyChainD</td>\n",
       "      <td>accordhealthcare_2017-12-11</td>\n",
       "      <td>we talk exclusively to accord healthcare s eu supply operations director about the firms supply chain competence and agility in the crowded healthcare market</td>\n",
       "      <td>False</td>\n",
       "      <td>True</td>\n",
       "      <td>False</td>\n",
       "      <td>False</td>\n",
       "    </tr>\n",
       "    <tr>\n",
       "      <th>1</th>\n",
       "      <td>940254856471896064</td>\n",
       "      <td>940254856471896064</td>\n",
       "      <td>2018-02-25</td>\n",
       "      <td>2017-12-11</td>\n",
       "      <td>2017-12-11 17:20:01</td>\n",
       "      <td>False</td>\n",
       "      <td>False</td>\n",
       "      <td>False</td>\n",
       "      <td>0</td>\n",
       "      <td>0</td>\n",
       "      <td>...</td>\n",
       "      <td>Accord Healthcare</td>\n",
       "      <td>\"The equitable/legal title conundrum and claiming priority in #patent  applications\" \\n\\nRead our article following the  Accord Healthcare  Limited v Research Corporation Technologies Inc, 2017 decision:  http:// bit.ly/2yeZfrT    \\n\\n#priority  ...</td>\n",
       "      <td>498639837</td>\n",
       "      <td>VennerShipley</td>\n",
       "      <td>accordhealthcare_2017-12-11</td>\n",
       "      <td>the equitable legal title conundrum and claiming priority in patent applications read our article following the accord healthcare limited v research corporation technologies inc decision priority</td>\n",
       "      <td>False</td>\n",
       "      <td>True</td>\n",
       "      <td>False</td>\n",
       "      <td>False</td>\n",
       "    </tr>\n",
       "  </tbody>\n",
       "</table>\n",
       "<p>2 rows × 21 columns</p>\n",
       "</div>"
      ],
      "text/plain": [
       "                   id     conversation_id    date_end  date_start  \\\n",
       "0  940606059626090496  940606059626090496  2018-02-25  2017-12-11   \n",
       "1  940254856471896064  940254856471896064  2018-02-25  2017-12-11   \n",
       "\n",
       "              datetime  is_quote  is_reply  is_retweet  nbr_favorite  \\\n",
       "0  2017-12-12 16:35:34     False     False       False             3   \n",
       "1  2017-12-11 17:20:01     False     False       False             0   \n",
       "\n",
       "   nbr_reply  ...      search_string  \\\n",
       "0          0  ...  Accord Healthcare   \n",
       "1          0  ...  Accord Healthcare   \n",
       "\n",
       "                                                                                                                                                                                                                                                        text  \\\n",
       "0                                    We talk exclusively to  Accord Healthcare 's EU Supply Operations Director about the firms #supplychain  competence and agility in the crowded #healthcare  market  http:// bit.ly/2z3W22g   pic.twitter.com/jKuLRbUQqT   \n",
       "1  \"The equitable/legal title conundrum and claiming priority in #patent  applications\" \\n\\nRead our article following the  Accord Healthcare  Limited v Research Corporation Technologies Inc, 2017 decision:  http:// bit.ly/2yeZfrT    \\n\\n#priority  ...   \n",
       "\n",
       "     user_id      user_name                  string_date  \\\n",
       "0   60939437   SupplyChainD  accordhealthcare_2017-12-11   \n",
       "1  498639837  VennerShipley  accordhealthcare_2017-12-11   \n",
       "\n",
       "                                                                                                                                                                                            text_clean  \\\n",
       "0                                        we talk exclusively to accord healthcare s eu supply operations director about the firms supply chain competence and agility in the crowded healthcare market   \n",
       "1  the equitable legal title conundrum and claiming priority in patent applications read our article following the accord healthcare limited v research corporation technologies inc decision priority   \n",
       "\n",
       "  dup_100  str_in_text  str_in_user  str_in_conv  \n",
       "0   False         True        False        False  \n",
       "1   False         True        False        False  \n",
       "\n",
       "[2 rows x 21 columns]"
      ]
     },
     "execution_count": 5,
     "metadata": {},
     "output_type": "execute_result"
    }
   ],
   "source": [
    "df.head(2)"
   ]
  },
  {
   "cell_type": "code",
   "execution_count": 6,
   "metadata": {},
   "outputs": [],
   "source": [
    "controls = pd.read_csv('./_sources_final/control.csv')"
   ]
  },
  {
   "cell_type": "code",
   "execution_count": 7,
   "metadata": {},
   "outputs": [
    {
     "data": {
      "text/html": [
       "<div>\n",
       "<style scoped>\n",
       "    .dataframe tbody tr th:only-of-type {\n",
       "        vertical-align: middle;\n",
       "    }\n",
       "\n",
       "    .dataframe tbody tr th {\n",
       "        vertical-align: top;\n",
       "    }\n",
       "\n",
       "    .dataframe thead th {\n",
       "        text-align: right;\n",
       "    }\n",
       "</style>\n",
       "<table border=\"1\" class=\"dataframe\">\n",
       "  <thead>\n",
       "    <tr style=\"text-align: right;\">\n",
       "      <th></th>\n",
       "      <th>nid</th>\n",
       "      <th>announcement_date</th>\n",
       "      <th>search_string</th>\n",
       "      <th>done</th>\n",
       "      <th>date_iso</th>\n",
       "      <th>date_start</th>\n",
       "      <th>date_end</th>\n",
       "      <th>Unnamed: 7</th>\n",
       "    </tr>\n",
       "  </thead>\n",
       "  <tbody>\n",
       "    <tr>\n",
       "      <th>0</th>\n",
       "      <td>76423</td>\n",
       "      <td>06/01/2014</td>\n",
       "      <td>Sisters Food</td>\n",
       "      <td>Done</td>\n",
       "      <td>2014-01-06</td>\n",
       "      <td>2013-11-22</td>\n",
       "      <td>2014-02-06</td>\n",
       "      <td>NaN</td>\n",
       "    </tr>\n",
       "    <tr>\n",
       "      <th>1</th>\n",
       "      <td>78656</td>\n",
       "      <td>20/02/2015</td>\n",
       "      <td>Sisters Food</td>\n",
       "      <td>Done</td>\n",
       "      <td>2015-02-20</td>\n",
       "      <td>2015-01-06</td>\n",
       "      <td>2015-03-23</td>\n",
       "      <td>NaN</td>\n",
       "    </tr>\n",
       "  </tbody>\n",
       "</table>\n",
       "</div>"
      ],
      "text/plain": [
       "     nid announcement_date search_string  done    date_iso  date_start  \\\n",
       "0  76423        06/01/2014  Sisters Food  Done  2014-01-06  2013-11-22   \n",
       "1  78656        20/02/2015  Sisters Food  Done  2015-02-20  2015-01-06   \n",
       "\n",
       "     date_end Unnamed: 7  \n",
       "0  2014-02-06        NaN  \n",
       "1  2015-03-23        NaN  "
      ]
     },
     "execution_count": 7,
     "metadata": {},
     "output_type": "execute_result"
    }
   ],
   "source": [
    "controls.head(2)"
   ]
  },
  {
   "cell_type": "code",
   "execution_count": 8,
   "metadata": {},
   "outputs": [],
   "source": [
    "def date_iso(date):\n",
    "    date = date.split('/')\n",
    "    return '{}-{}-{}'.format(date[2], date[1], date[0])"
   ]
  },
  {
   "cell_type": "code",
   "execution_count": 9,
   "metadata": {},
   "outputs": [],
   "source": [
    "JOURS_AVANT = 45\n",
    "def start_date(date):\n",
    "    date = DateTime.strptime(date, \"%Y-%m-%d\") - TimeDelta(days=JOURS_AVANT)\n",
    "    return date.strftime(\"%Y-%m-%d\")"
   ]
  },
  {
   "cell_type": "code",
   "execution_count": 10,
   "metadata": {},
   "outputs": [],
   "source": [
    "JOURS_APRES = 30\n",
    "def end_date(date):\n",
    "    date = DateTime.strptime(date, \"%Y-%m-%d\") + TimeDelta(days=JOURS_APRES + 1)\n",
    "    return date.strftime(\"%Y-%m-%d\")"
   ]
  },
  {
   "cell_type": "code",
   "execution_count": 11,
   "metadata": {},
   "outputs": [],
   "source": [
    "clean_string = lambda x: x.replace(' ', '').lower()\n",
    "string_date = lambda x, y: '{}_{}'.format(clean_string(x), clean_string(y))"
   ]
  },
  {
   "cell_type": "code",
   "execution_count": 12,
   "metadata": {},
   "outputs": [],
   "source": [
    "controls['date_iso'] = controls.announcement_date.apply(date_iso)"
   ]
  },
  {
   "cell_type": "code",
   "execution_count": 13,
   "metadata": {},
   "outputs": [],
   "source": [
    "controls['date_start'] = controls.date_iso.apply(start_date)"
   ]
  },
  {
   "cell_type": "code",
   "execution_count": 14,
   "metadata": {},
   "outputs": [],
   "source": [
    "controls['date_end'] = controls.date_iso.apply(end_date)"
   ]
  },
  {
   "cell_type": "code",
   "execution_count": 15,
   "metadata": {},
   "outputs": [],
   "source": [
    "controls['string_date'] = controls.apply(lambda row: string_date(row['search_string'], row['date_start']), axis=1)"
   ]
  },
  {
   "cell_type": "code",
   "execution_count": 16,
   "metadata": {},
   "outputs": [],
   "source": [
    "controls.drop(['Unnamed: 7'], axis=1, inplace=True)"
   ]
  },
  {
   "cell_type": "code",
   "execution_count": 17,
   "metadata": {},
   "outputs": [
    {
     "data": {
      "text/html": [
       "<div>\n",
       "<style scoped>\n",
       "    .dataframe tbody tr th:only-of-type {\n",
       "        vertical-align: middle;\n",
       "    }\n",
       "\n",
       "    .dataframe tbody tr th {\n",
       "        vertical-align: top;\n",
       "    }\n",
       "\n",
       "    .dataframe thead th {\n",
       "        text-align: right;\n",
       "    }\n",
       "</style>\n",
       "<table border=\"1\" class=\"dataframe\">\n",
       "  <thead>\n",
       "    <tr style=\"text-align: right;\">\n",
       "      <th></th>\n",
       "      <th>nid</th>\n",
       "      <th>announcement_date</th>\n",
       "      <th>search_string</th>\n",
       "      <th>done</th>\n",
       "      <th>date_iso</th>\n",
       "      <th>date_start</th>\n",
       "      <th>date_end</th>\n",
       "      <th>string_date</th>\n",
       "    </tr>\n",
       "  </thead>\n",
       "  <tbody>\n",
       "    <tr>\n",
       "      <th>0</th>\n",
       "      <td>76423</td>\n",
       "      <td>06/01/2014</td>\n",
       "      <td>Sisters Food</td>\n",
       "      <td>Done</td>\n",
       "      <td>2014-01-06</td>\n",
       "      <td>2013-11-22</td>\n",
       "      <td>2014-02-06</td>\n",
       "      <td>sistersfood_2013-11-22</td>\n",
       "    </tr>\n",
       "    <tr>\n",
       "      <th>1</th>\n",
       "      <td>78656</td>\n",
       "      <td>20/02/2015</td>\n",
       "      <td>Sisters Food</td>\n",
       "      <td>Done</td>\n",
       "      <td>2015-02-20</td>\n",
       "      <td>2015-01-06</td>\n",
       "      <td>2015-03-23</td>\n",
       "      <td>sistersfood_2015-01-06</td>\n",
       "    </tr>\n",
       "    <tr>\n",
       "      <th>2</th>\n",
       "      <td>89055</td>\n",
       "      <td>01/11/2016</td>\n",
       "      <td>Sisters Food</td>\n",
       "      <td>Done</td>\n",
       "      <td>2016-11-01</td>\n",
       "      <td>2016-09-17</td>\n",
       "      <td>2016-12-02</td>\n",
       "      <td>sistersfood_2016-09-17</td>\n",
       "    </tr>\n",
       "    <tr>\n",
       "      <th>3</th>\n",
       "      <td>89795</td>\n",
       "      <td>06/01/2017</td>\n",
       "      <td>Sisters Food</td>\n",
       "      <td>Done</td>\n",
       "      <td>2017-01-06</td>\n",
       "      <td>2016-11-22</td>\n",
       "      <td>2017-02-06</td>\n",
       "      <td>sistersfood_2016-11-22</td>\n",
       "    </tr>\n",
       "    <tr>\n",
       "      <th>4</th>\n",
       "      <td>90847</td>\n",
       "      <td>07/04/2017</td>\n",
       "      <td>Sisters Food</td>\n",
       "      <td>Done</td>\n",
       "      <td>2017-04-07</td>\n",
       "      <td>2017-02-21</td>\n",
       "      <td>2017-05-08</td>\n",
       "      <td>sistersfood_2017-02-21</td>\n",
       "    </tr>\n",
       "  </tbody>\n",
       "</table>\n",
       "</div>"
      ],
      "text/plain": [
       "     nid announcement_date search_string  done    date_iso  date_start  \\\n",
       "0  76423        06/01/2014  Sisters Food  Done  2014-01-06  2013-11-22   \n",
       "1  78656        20/02/2015  Sisters Food  Done  2015-02-20  2015-01-06   \n",
       "2  89055        01/11/2016  Sisters Food  Done  2016-11-01  2016-09-17   \n",
       "3  89795        06/01/2017  Sisters Food  Done  2017-01-06  2016-11-22   \n",
       "4  90847        07/04/2017  Sisters Food  Done  2017-04-07  2017-02-21   \n",
       "\n",
       "     date_end             string_date  \n",
       "0  2014-02-06  sistersfood_2013-11-22  \n",
       "1  2015-03-23  sistersfood_2015-01-06  \n",
       "2  2016-12-02  sistersfood_2016-09-17  \n",
       "3  2017-02-06  sistersfood_2016-11-22  \n",
       "4  2017-05-08  sistersfood_2017-02-21  "
      ]
     },
     "execution_count": 17,
     "metadata": {},
     "output_type": "execute_result"
    }
   ],
   "source": [
    "controls.head()"
   ]
  },
  {
   "cell_type": "code",
   "execution_count": 18,
   "metadata": {},
   "outputs": [],
   "source": [
    "indexes = dict()"
   ]
  },
  {
   "cell_type": "code",
   "execution_count": 19,
   "metadata": {},
   "outputs": [],
   "source": [
    "for index, row in controls.iterrows():\n",
    "    indexes[row['string_date']] = row['nid']"
   ]
  },
  {
   "cell_type": "code",
   "execution_count": 20,
   "metadata": {},
   "outputs": [],
   "source": [
    "idx = lambda x: indexes[x]"
   ]
  },
  {
   "cell_type": "code",
   "execution_count": 21,
   "metadata": {},
   "outputs": [
    {
     "data": {
      "application/vnd.jupyter.widget-view+json": {
       "model_id": "c4d930e202ae4a1ab4cab661a1b5c8c0",
       "version_major": 2,
       "version_minor": 0
      },
      "text/plain": [
       "HBox(children=(IntProgress(value=0, max=15882669), HTML(value='')))"
      ]
     },
     "metadata": {},
     "output_type": "display_data"
    },
    {
     "name": "stdout",
     "output_type": "stream",
     "text": [
      "\n"
     ]
    }
   ],
   "source": [
    "df.loc[:,'nid'] = df.string_date.progress_apply(idx)"
   ]
  },
  {
   "cell_type": "code",
   "execution_count": 22,
   "metadata": {},
   "outputs": [
    {
     "data": {
      "text/html": [
       "<div>\n",
       "<style scoped>\n",
       "    .dataframe tbody tr th:only-of-type {\n",
       "        vertical-align: middle;\n",
       "    }\n",
       "\n",
       "    .dataframe tbody tr th {\n",
       "        vertical-align: top;\n",
       "    }\n",
       "\n",
       "    .dataframe thead th {\n",
       "        text-align: right;\n",
       "    }\n",
       "</style>\n",
       "<table border=\"1\" class=\"dataframe\">\n",
       "  <thead>\n",
       "    <tr style=\"text-align: right;\">\n",
       "      <th></th>\n",
       "      <th>id</th>\n",
       "      <th>conversation_id</th>\n",
       "      <th>date_end</th>\n",
       "      <th>date_start</th>\n",
       "      <th>datetime</th>\n",
       "      <th>is_quote</th>\n",
       "      <th>is_reply</th>\n",
       "      <th>is_retweet</th>\n",
       "      <th>nbr_favorite</th>\n",
       "      <th>nbr_reply</th>\n",
       "      <th>...</th>\n",
       "      <th>text</th>\n",
       "      <th>user_id</th>\n",
       "      <th>user_name</th>\n",
       "      <th>string_date</th>\n",
       "      <th>text_clean</th>\n",
       "      <th>dup_100</th>\n",
       "      <th>str_in_text</th>\n",
       "      <th>str_in_user</th>\n",
       "      <th>str_in_conv</th>\n",
       "      <th>nid</th>\n",
       "    </tr>\n",
       "  </thead>\n",
       "  <tbody>\n",
       "    <tr>\n",
       "      <th>0</th>\n",
       "      <td>940606059626090496</td>\n",
       "      <td>940606059626090496</td>\n",
       "      <td>2018-02-25</td>\n",
       "      <td>2017-12-11</td>\n",
       "      <td>2017-12-12 16:35:34</td>\n",
       "      <td>False</td>\n",
       "      <td>False</td>\n",
       "      <td>False</td>\n",
       "      <td>3</td>\n",
       "      <td>0</td>\n",
       "      <td>...</td>\n",
       "      <td>We talk exclusively to  Accord Healthcare 's EU Supply Operations Director about the firms #supplychain  competence and agility in the crowded #healthcare  market  http:// bit.ly/2z3W22g   pic.twitter.com/jKuLRbUQqT</td>\n",
       "      <td>60939437</td>\n",
       "      <td>SupplyChainD</td>\n",
       "      <td>accordhealthcare_2017-12-11</td>\n",
       "      <td>we talk exclusively to accord healthcare s eu supply operations director about the firms supply chain competence and agility in the crowded healthcare market</td>\n",
       "      <td>False</td>\n",
       "      <td>True</td>\n",
       "      <td>False</td>\n",
       "      <td>False</td>\n",
       "      <td>93132</td>\n",
       "    </tr>\n",
       "    <tr>\n",
       "      <th>1</th>\n",
       "      <td>940254856471896064</td>\n",
       "      <td>940254856471896064</td>\n",
       "      <td>2018-02-25</td>\n",
       "      <td>2017-12-11</td>\n",
       "      <td>2017-12-11 17:20:01</td>\n",
       "      <td>False</td>\n",
       "      <td>False</td>\n",
       "      <td>False</td>\n",
       "      <td>0</td>\n",
       "      <td>0</td>\n",
       "      <td>...</td>\n",
       "      <td>\"The equitable/legal title conundrum and claiming priority in #patent  applications\" \\n\\nRead our article following the  Accord Healthcare  Limited v Research Corporation Technologies Inc, 2017 decision:  http:// bit.ly/2yeZfrT    \\n\\n#priority  ...</td>\n",
       "      <td>498639837</td>\n",
       "      <td>VennerShipley</td>\n",
       "      <td>accordhealthcare_2017-12-11</td>\n",
       "      <td>the equitable legal title conundrum and claiming priority in patent applications read our article following the accord healthcare limited v research corporation technologies inc decision priority</td>\n",
       "      <td>False</td>\n",
       "      <td>True</td>\n",
       "      <td>False</td>\n",
       "      <td>False</td>\n",
       "      <td>93132</td>\n",
       "    </tr>\n",
       "  </tbody>\n",
       "</table>\n",
       "<p>2 rows × 22 columns</p>\n",
       "</div>"
      ],
      "text/plain": [
       "                   id     conversation_id    date_end  date_start  \\\n",
       "0  940606059626090496  940606059626090496  2018-02-25  2017-12-11   \n",
       "1  940254856471896064  940254856471896064  2018-02-25  2017-12-11   \n",
       "\n",
       "              datetime  is_quote  is_reply  is_retweet  nbr_favorite  \\\n",
       "0  2017-12-12 16:35:34     False     False       False             3   \n",
       "1  2017-12-11 17:20:01     False     False       False             0   \n",
       "\n",
       "   nbr_reply  ...  \\\n",
       "0          0  ...   \n",
       "1          0  ...   \n",
       "\n",
       "                                                                                                                                                                                                                                                        text  \\\n",
       "0                                    We talk exclusively to  Accord Healthcare 's EU Supply Operations Director about the firms #supplychain  competence and agility in the crowded #healthcare  market  http:// bit.ly/2z3W22g   pic.twitter.com/jKuLRbUQqT   \n",
       "1  \"The equitable/legal title conundrum and claiming priority in #patent  applications\" \\n\\nRead our article following the  Accord Healthcare  Limited v Research Corporation Technologies Inc, 2017 decision:  http:// bit.ly/2yeZfrT    \\n\\n#priority  ...   \n",
       "\n",
       "     user_id      user_name                  string_date  \\\n",
       "0   60939437   SupplyChainD  accordhealthcare_2017-12-11   \n",
       "1  498639837  VennerShipley  accordhealthcare_2017-12-11   \n",
       "\n",
       "                                                                                                                                                                                            text_clean  \\\n",
       "0                                        we talk exclusively to accord healthcare s eu supply operations director about the firms supply chain competence and agility in the crowded healthcare market   \n",
       "1  the equitable legal title conundrum and claiming priority in patent applications read our article following the accord healthcare limited v research corporation technologies inc decision priority   \n",
       "\n",
       "  dup_100 str_in_text  str_in_user  str_in_conv    nid  \n",
       "0   False        True        False        False  93132  \n",
       "1   False        True        False        False  93132  \n",
       "\n",
       "[2 rows x 22 columns]"
      ]
     },
     "execution_count": 22,
     "metadata": {},
     "output_type": "execute_result"
    }
   ],
   "source": [
    "df.head(2)"
   ]
  },
  {
   "cell_type": "code",
   "execution_count": 23,
   "metadata": {},
   "outputs": [],
   "source": [
    "OUTPUT_FILE_GZIP = './_sources_final/pickles/pression_sociale_rounds_1_2_3_corrected_search_str_opt_clean_text_dup100_clean_matches_nids.pickle.gzip'"
   ]
  },
  {
   "cell_type": "code",
   "execution_count": 24,
   "metadata": {},
   "outputs": [],
   "source": [
    "df.to_pickle(OUTPUT_FILE_GZIP, compression='gzip')"
   ]
  },
  {
   "cell_type": "markdown",
   "metadata": {},
   "source": [
    "#### Export to CSV"
   ]
  },
  {
   "cell_type": "code",
   "execution_count": 25,
   "metadata": {},
   "outputs": [],
   "source": [
    "df.to_csv('./_sources_final/outputs/social_pressure_2019_08_08.csv', compression='gzip')"
   ]
  },
  {
   "cell_type": "code",
   "execution_count": 26,
   "metadata": {},
   "outputs": [
    {
     "data": {
      "text/plain": [
       "id                  int64\n",
       "conversation_id     int64\n",
       "date_end           object\n",
       "date_start         object\n",
       "datetime           object\n",
       "is_quote             bool\n",
       "is_reply             bool\n",
       "is_retweet           bool\n",
       "nbr_favorite        int64\n",
       "nbr_reply           int64\n",
       "nbr_retweet         int64\n",
       "search_string      object\n",
       "text               object\n",
       "user_id             int64\n",
       "user_name          object\n",
       "string_date        object\n",
       "text_clean         object\n",
       "dup_100              bool\n",
       "str_in_text          bool\n",
       "str_in_user          bool\n",
       "str_in_conv          bool\n",
       "nid                 int64\n",
       "dtype: object"
      ]
     },
     "execution_count": 26,
     "metadata": {},
     "output_type": "execute_result"
    }
   ],
   "source": [
    "df.dtypes"
   ]
  },
  {
   "cell_type": "code",
   "execution_count": 27,
   "metadata": {},
   "outputs": [],
   "source": [
    "df.drop(['text', 'search_string', 'text_clean'], axis=1, inplace=True)"
   ]
  },
  {
   "cell_type": "code",
   "execution_count": 28,
   "metadata": {},
   "outputs": [],
   "source": [
    "df.to_csv('./_sources_final/outputs/social_pressure_no_text_2019_08_08.csv', compression='gzip')"
   ]
  },
  {
   "cell_type": "markdown",
   "metadata": {},
   "source": [
    "### Counts by nid"
   ]
  },
  {
   "cell_type": "code",
   "execution_count": 29,
   "metadata": {},
   "outputs": [
    {
     "data": {
      "text/html": [
       "<div>\n",
       "<style scoped>\n",
       "    .dataframe tbody tr th:only-of-type {\n",
       "        vertical-align: middle;\n",
       "    }\n",
       "\n",
       "    .dataframe tbody tr th {\n",
       "        vertical-align: top;\n",
       "    }\n",
       "\n",
       "    .dataframe thead th {\n",
       "        text-align: right;\n",
       "    }\n",
       "</style>\n",
       "<table border=\"1\" class=\"dataframe\">\n",
       "  <thead>\n",
       "    <tr style=\"text-align: right;\">\n",
       "      <th></th>\n",
       "      <th>index</th>\n",
       "      <th>nid</th>\n",
       "    </tr>\n",
       "  </thead>\n",
       "  <tbody>\n",
       "    <tr>\n",
       "      <th>0</th>\n",
       "      <td>74758</td>\n",
       "      <td>506051</td>\n",
       "    </tr>\n",
       "    <tr>\n",
       "      <th>1</th>\n",
       "      <td>88614</td>\n",
       "      <td>504564</td>\n",
       "    </tr>\n",
       "  </tbody>\n",
       "</table>\n",
       "</div>"
      ],
      "text/plain": [
       "   index     nid\n",
       "0  74758  506051\n",
       "1  88614  504564"
      ]
     },
     "execution_count": 29,
     "metadata": {},
     "output_type": "execute_result"
    }
   ],
   "source": [
    "counts = df.nid.value_counts().to_frame().reset_index()\n",
    "counts.head(2)"
   ]
  },
  {
   "cell_type": "code",
   "execution_count": 30,
   "metadata": {},
   "outputs": [
    {
     "data": {
      "text/html": [
       "<div>\n",
       "<style scoped>\n",
       "    .dataframe tbody tr th:only-of-type {\n",
       "        vertical-align: middle;\n",
       "    }\n",
       "\n",
       "    .dataframe tbody tr th {\n",
       "        vertical-align: top;\n",
       "    }\n",
       "\n",
       "    .dataframe thead th {\n",
       "        text-align: right;\n",
       "    }\n",
       "</style>\n",
       "<table border=\"1\" class=\"dataframe\">\n",
       "  <thead>\n",
       "    <tr style=\"text-align: right;\">\n",
       "      <th></th>\n",
       "      <th>nid</th>\n",
       "      <th>total</th>\n",
       "    </tr>\n",
       "  </thead>\n",
       "  <tbody>\n",
       "    <tr>\n",
       "      <th>0</th>\n",
       "      <td>74758</td>\n",
       "      <td>506051</td>\n",
       "    </tr>\n",
       "    <tr>\n",
       "      <th>1</th>\n",
       "      <td>88614</td>\n",
       "      <td>504564</td>\n",
       "    </tr>\n",
       "  </tbody>\n",
       "</table>\n",
       "</div>"
      ],
      "text/plain": [
       "     nid   total\n",
       "0  74758  506051\n",
       "1  88614  504564"
      ]
     },
     "execution_count": 30,
     "metadata": {},
     "output_type": "execute_result"
    }
   ],
   "source": [
    "counts.columns = ['nid', 'total']\n",
    "counts.head(2)"
   ]
  },
  {
   "cell_type": "code",
   "execution_count": 31,
   "metadata": {},
   "outputs": [],
   "source": [
    "counts_dict = dict()\n",
    "for index, row in counts.iterrows():\n",
    "    counts_dict[row.nid] = row.total"
   ]
  },
  {
   "cell_type": "code",
   "execution_count": 32,
   "metadata": {},
   "outputs": [],
   "source": [
    "def get_counts(x):\n",
    "    try:\n",
    "        out = counts_dict[x]\n",
    "    except:\n",
    "        out = 0\n",
    "    return out"
   ]
  },
  {
   "cell_type": "code",
   "execution_count": 33,
   "metadata": {},
   "outputs": [],
   "source": [
    "controls['nb_tweets'] = controls.nid.apply(get_counts)"
   ]
  },
  {
   "cell_type": "code",
   "execution_count": 34,
   "metadata": {},
   "outputs": [
    {
     "data": {
      "text/html": [
       "<div>\n",
       "<style scoped>\n",
       "    .dataframe tbody tr th:only-of-type {\n",
       "        vertical-align: middle;\n",
       "    }\n",
       "\n",
       "    .dataframe tbody tr th {\n",
       "        vertical-align: top;\n",
       "    }\n",
       "\n",
       "    .dataframe thead th {\n",
       "        text-align: right;\n",
       "    }\n",
       "</style>\n",
       "<table border=\"1\" class=\"dataframe\">\n",
       "  <thead>\n",
       "    <tr style=\"text-align: right;\">\n",
       "      <th></th>\n",
       "      <th>nid</th>\n",
       "      <th>announcement_date</th>\n",
       "      <th>search_string</th>\n",
       "      <th>done</th>\n",
       "      <th>date_iso</th>\n",
       "      <th>date_start</th>\n",
       "      <th>date_end</th>\n",
       "      <th>string_date</th>\n",
       "      <th>nb_tweets</th>\n",
       "    </tr>\n",
       "  </thead>\n",
       "  <tbody>\n",
       "    <tr>\n",
       "      <th>0</th>\n",
       "      <td>76423</td>\n",
       "      <td>06/01/2014</td>\n",
       "      <td>Sisters Food</td>\n",
       "      <td>Done</td>\n",
       "      <td>2014-01-06</td>\n",
       "      <td>2013-11-22</td>\n",
       "      <td>2014-02-06</td>\n",
       "      <td>sistersfood_2013-11-22</td>\n",
       "      <td>542</td>\n",
       "    </tr>\n",
       "    <tr>\n",
       "      <th>1</th>\n",
       "      <td>78656</td>\n",
       "      <td>20/02/2015</td>\n",
       "      <td>Sisters Food</td>\n",
       "      <td>Done</td>\n",
       "      <td>2015-02-20</td>\n",
       "      <td>2015-01-06</td>\n",
       "      <td>2015-03-23</td>\n",
       "      <td>sistersfood_2015-01-06</td>\n",
       "      <td>328</td>\n",
       "    </tr>\n",
       "  </tbody>\n",
       "</table>\n",
       "</div>"
      ],
      "text/plain": [
       "     nid announcement_date search_string  done    date_iso  date_start  \\\n",
       "0  76423        06/01/2014  Sisters Food  Done  2014-01-06  2013-11-22   \n",
       "1  78656        20/02/2015  Sisters Food  Done  2015-02-20  2015-01-06   \n",
       "\n",
       "     date_end             string_date  nb_tweets  \n",
       "0  2014-02-06  sistersfood_2013-11-22        542  \n",
       "1  2015-03-23  sistersfood_2015-01-06        328  "
      ]
     },
     "execution_count": 34,
     "metadata": {},
     "output_type": "execute_result"
    }
   ],
   "source": [
    "controls.head(2)"
   ]
  },
  {
   "cell_type": "code",
   "execution_count": 35,
   "metadata": {},
   "outputs": [],
   "source": [
    "controls.to_excel('./_sources_final/controls/05_scraping_conntrols.xlsx')"
   ]
  },
  {
   "cell_type": "code",
   "execution_count": null,
   "metadata": {},
   "outputs": [],
   "source": []
  },
  {
   "cell_type": "code",
   "execution_count": null,
   "metadata": {},
   "outputs": [],
   "source": []
  }
 ],
 "metadata": {
  "kernelspec": {
   "display_name": "Python 3",
   "language": "python",
   "name": "python3"
  },
  "language_info": {
   "codemirror_mode": {
    "name": "ipython",
    "version": 3
   },
   "file_extension": ".py",
   "mimetype": "text/x-python",
   "name": "python",
   "nbconvert_exporter": "python",
   "pygments_lexer": "ipython3",
   "version": "3.6.8"
  }
 },
 "nbformat": 4,
 "nbformat_minor": 2
}
