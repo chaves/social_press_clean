{
 "cells": [
  {
   "cell_type": "markdown",
   "metadata": {},
   "source": [
    "## Explore data by events"
   ]
  },
  {
   "cell_type": "code",
   "execution_count": 1,
   "metadata": {},
   "outputs": [],
   "source": [
    "import pandas as pd"
   ]
  },
  {
   "cell_type": "code",
   "execution_count": 2,
   "metadata": {},
   "outputs": [],
   "source": [
    "INTPUT_FILE_GZIP = './_sources_final/pickles/pression_sociale_rounds_1_2_3_clean_str.pickle.gzip'"
   ]
  },
  {
   "cell_type": "code",
   "execution_count": 3,
   "metadata": {},
   "outputs": [],
   "source": [
    "df = pd.read_pickle(INTPUT_FILE_GZIP, compression='gzip')"
   ]
  },
  {
   "cell_type": "code",
   "execution_count": 4,
   "metadata": {},
   "outputs": [],
   "source": [
    "df_search_strings_counts = df.string_date.value_counts()"
   ]
  },
  {
   "cell_type": "code",
   "execution_count": 5,
   "metadata": {},
   "outputs": [
    {
     "data": {
      "text/plain": [
       "947"
      ]
     },
     "execution_count": 5,
     "metadata": {},
     "output_type": "execute_result"
    }
   ],
   "source": [
    "len(df_search_strings_counts)"
   ]
  },
  {
   "cell_type": "code",
   "execution_count": 6,
   "metadata": {},
   "outputs": [
    {
     "data": {
      "text/plain": [
       "honda_2012-11-27    506101\n",
       "skype_2016-08-05    504569\n",
       "Name: string_date, dtype: int64"
      ]
     },
     "execution_count": 6,
     "metadata": {},
     "output_type": "execute_result"
    }
   ],
   "source": [
    "df_search_strings_counts.columns = ['string_date', 'nbTweets']\n",
    "df_search_strings_counts.head(2)"
   ]
  },
  {
   "cell_type": "code",
   "execution_count": 7,
   "metadata": {},
   "outputs": [],
   "source": [
    "OUTPUT_FILE = './_sources_final/controls/01_searchStrings_counts.xls'"
   ]
  },
  {
   "cell_type": "code",
   "execution_count": 8,
   "metadata": {},
   "outputs": [],
   "source": [
    "df_search_strings_counts.to_excel(OUTPUT_FILE)"
   ]
  },
  {
   "cell_type": "code",
   "execution_count": 10,
   "metadata": {},
   "outputs": [
    {
     "data": {
      "text/plain": [
       "honda_2012-11-27          506101\n",
       "skype_2016-08-05          504569\n",
       "mcdonalds_2017-03-24      470540\n",
       "mcdonalds_2016-06-12      428918\n",
       "tesco_2013-10-27          371662\n",
       "honda_2014-02-08          363935\n",
       "tesco_2013-04-20          321146\n",
       "theguardian_2016-02-01    318481\n",
       "tesco_2014-12-14          303329\n",
       "hmv_2012-12-17            300717\n",
       "tesco_2015-05-15          242312\n",
       "tesco_2016-11-01          233394\n",
       "nissan_2015-04-26         232416\n",
       "archer_2015-01-10         226307\n",
       "asos_2016-10-28           221677\n",
       "lv=_2017-12-17            217701\n",
       "kfc_2017-08-12            214097\n",
       "asda_2013-03-08           200871\n",
       "dominos_2016-04-23        196586\n",
       "tesco_2017-12-08          192697\n",
       "ikea_2016-12-16           176266\n",
       "tesco_2017-05-07          168165\n",
       "itv_2016-09-09            155399\n",
       "asda_2014-02-08           144035\n",
       "nationwide_2013-12-15     141775\n",
       "jaguar_2013-07-27         140023\n",
       "jaguar_2014-04-28         134239\n",
       "asda_2014-10-06           132088\n",
       "mcdonalds_2016-10-23      125981\n",
       "monarch_2017-08-18        124070\n",
       "asda_2013-05-05           123742\n",
       "carillion_2017-12-19      122029\n",
       "asda_2014-05-19           121708\n",
       "tesco_2017-01-13          121071\n",
       "staples_2014-10-06        120539\n",
       "hsbc_2015-04-25           112712\n",
       "aldi_2014-04-07           111312\n",
       "vodafone_2014-02-17       109626\n",
       "aldi_2013-08-16           106248\n",
       "jaguar_2017-05-05         105141\n",
       "postoffice_2016-11-26     103738\n",
       "asda_2015-12-04            96561\n",
       "sainsburys_2013-12-30      95069\n",
       "postoffice_2016-04-02      94377\n",
       "mclaren_2016-12-25         91449\n",
       "sainsburys_2015-02-14      90388\n",
       "sainsburys_2017-01-01      89913\n",
       "sainsburys_2017-09-02      88058\n",
       "mclaren_2015-11-23         86788\n",
       "admiral_2013-03-26         84282\n",
       "Name: string_date, dtype: int64"
      ]
     },
     "execution_count": 10,
     "metadata": {},
     "output_type": "execute_result"
    }
   ],
   "source": [
    "df_search_strings_counts.head(50)"
   ]
  },
  {
   "cell_type": "code",
   "execution_count": null,
   "metadata": {},
   "outputs": [],
   "source": []
  }
 ],
 "metadata": {
  "kernelspec": {
   "display_name": "Python 3",
   "language": "python",
   "name": "python3"
  },
  "language_info": {
   "codemirror_mode": {
    "name": "ipython",
    "version": 3
   },
   "file_extension": ".py",
   "mimetype": "text/x-python",
   "name": "python",
   "nbconvert_exporter": "python",
   "pygments_lexer": "ipython3",
   "version": "3.6.8"
  }
 },
 "nbformat": 4,
 "nbformat_minor": 2
}
