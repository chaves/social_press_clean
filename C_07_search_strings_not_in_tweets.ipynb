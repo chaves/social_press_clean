{
 "cells": [
  {
   "cell_type": "markdown",
   "metadata": {},
   "source": [
    "### Creates 3 variables to check if the search string appears in the texts (**str_in_text**) of the tweets, in the usernames (**str_in_user**) or in the related conversations (**str_in_conv**) "
   ]
  },
  {
   "cell_type": "code",
   "execution_count": 1,
   "metadata": {},
   "outputs": [
    {
     "data": {
      "text/plain": [
       "'0.24.2'"
      ]
     },
     "execution_count": 1,
     "metadata": {},
     "output_type": "execute_result"
    },
    {
     "data": {
      "application/vnd.jupyter.widget-view+json": {
       "model_id": "8621c553c697474d840bd27813415780",
       "version_major": 2,
       "version_minor": 0
      },
      "text/plain": [
       "HBox(children=(IntProgress(value=1, bar_style='info', max=1), HTML(value='')))"
      ]
     },
     "metadata": {},
     "output_type": "display_data"
    },
    {
     "name": "stdout",
     "output_type": "stream",
     "text": [
      "\n"
     ]
    }
   ],
   "source": [
    "import pandas as pd\n",
    "import string\n",
    "import unidecode\n",
    "from tqdm import tqdm, tqdm_notebook\n",
    "pd.options.display.max_colwidth = 250\n",
    "pd.__version__ # marche pas avec pandas 0.25 https://github.com/tqdm/tqdm/issues/780\n",
    "tqdm_notebook().pandas()"
   ]
  },
  {
   "cell_type": "code",
   "execution_count": 2,
   "metadata": {},
   "outputs": [],
   "source": [
    "INPUT_FILE_GZIP = './_sources_final/pickles/pression_sociale_rounds_1_2_3_corrected_search_str_opt_clean_text_dup100_clean.pickle.gzip'"
   ]
  },
  {
   "cell_type": "code",
   "execution_count": 3,
   "metadata": {},
   "outputs": [],
   "source": [
    "df = pd.read_pickle(INPUT_FILE_GZIP, compression='gzip')"
   ]
  },
  {
   "cell_type": "code",
   "execution_count": 4,
   "metadata": {},
   "outputs": [
    {
     "data": {
      "text/plain": [
       "15882669"
      ]
     },
     "execution_count": 4,
     "metadata": {},
     "output_type": "execute_result"
    }
   ],
   "source": [
    "len(df)"
   ]
  },
  {
   "cell_type": "code",
   "execution_count": 5,
   "metadata": {},
   "outputs": [
    {
     "data": {
      "text/html": [
       "<div>\n",
       "<style scoped>\n",
       "    .dataframe tbody tr th:only-of-type {\n",
       "        vertical-align: middle;\n",
       "    }\n",
       "\n",
       "    .dataframe tbody tr th {\n",
       "        vertical-align: top;\n",
       "    }\n",
       "\n",
       "    .dataframe thead th {\n",
       "        text-align: right;\n",
       "    }\n",
       "</style>\n",
       "<table border=\"1\" class=\"dataframe\">\n",
       "  <thead>\n",
       "    <tr style=\"text-align: right;\">\n",
       "      <th></th>\n",
       "      <th>id</th>\n",
       "      <th>conversation_id</th>\n",
       "      <th>date_end</th>\n",
       "      <th>date_start</th>\n",
       "      <th>datetime</th>\n",
       "      <th>is_quote</th>\n",
       "      <th>is_reply</th>\n",
       "      <th>is_retweet</th>\n",
       "      <th>nbr_favorite</th>\n",
       "      <th>nbr_reply</th>\n",
       "      <th>nbr_retweet</th>\n",
       "      <th>search_string</th>\n",
       "      <th>text</th>\n",
       "      <th>user_id</th>\n",
       "      <th>user_name</th>\n",
       "      <th>string_date</th>\n",
       "      <th>text_clean</th>\n",
       "      <th>dup_100</th>\n",
       "    </tr>\n",
       "  </thead>\n",
       "  <tbody>\n",
       "    <tr>\n",
       "      <th>0</th>\n",
       "      <td>940606059626090496</td>\n",
       "      <td>940606059626090496</td>\n",
       "      <td>2018-02-25</td>\n",
       "      <td>2017-12-11</td>\n",
       "      <td>2017-12-12 16:35:34</td>\n",
       "      <td>False</td>\n",
       "      <td>False</td>\n",
       "      <td>False</td>\n",
       "      <td>3</td>\n",
       "      <td>0</td>\n",
       "      <td>2</td>\n",
       "      <td>Accord Healthcare</td>\n",
       "      <td>We talk exclusively to  Accord Healthcare 's EU Supply Operations Director about the firms #supplychain  competence and agility in the crowded #healthcare  market  http:// bit.ly/2z3W22g   pic.twitter.com/jKuLRbUQqT</td>\n",
       "      <td>60939437</td>\n",
       "      <td>SupplyChainD</td>\n",
       "      <td>accordhealthcare_2017-12-11</td>\n",
       "      <td>we talk exclusively to accord healthcare s eu supply operations director about the firms supply chain competence and agility in the crowded healthcare market</td>\n",
       "      <td>False</td>\n",
       "    </tr>\n",
       "    <tr>\n",
       "      <th>1</th>\n",
       "      <td>940254856471896064</td>\n",
       "      <td>940254856471896064</td>\n",
       "      <td>2018-02-25</td>\n",
       "      <td>2017-12-11</td>\n",
       "      <td>2017-12-11 17:20:01</td>\n",
       "      <td>False</td>\n",
       "      <td>False</td>\n",
       "      <td>False</td>\n",
       "      <td>0</td>\n",
       "      <td>0</td>\n",
       "      <td>0</td>\n",
       "      <td>Accord Healthcare</td>\n",
       "      <td>\"The equitable/legal title conundrum and claiming priority in #patent  applications\" \\n\\nRead our article following the  Accord Healthcare  Limited v Research Corporation Technologies Inc, 2017 decision:  http:// bit.ly/2yeZfrT    \\n\\n#priority  ...</td>\n",
       "      <td>498639837</td>\n",
       "      <td>VennerShipley</td>\n",
       "      <td>accordhealthcare_2017-12-11</td>\n",
       "      <td>the equitable legal title conundrum and claiming priority in patent applications read our article following the accord healthcare limited v research corporation technologies inc decision priority</td>\n",
       "      <td>False</td>\n",
       "    </tr>\n",
       "  </tbody>\n",
       "</table>\n",
       "</div>"
      ],
      "text/plain": [
       "                   id     conversation_id    date_end  date_start  \\\n",
       "0  940606059626090496  940606059626090496  2018-02-25  2017-12-11   \n",
       "1  940254856471896064  940254856471896064  2018-02-25  2017-12-11   \n",
       "\n",
       "              datetime  is_quote  is_reply  is_retweet  nbr_favorite  \\\n",
       "0  2017-12-12 16:35:34     False     False       False             3   \n",
       "1  2017-12-11 17:20:01     False     False       False             0   \n",
       "\n",
       "   nbr_reply  nbr_retweet      search_string  \\\n",
       "0          0            2  Accord Healthcare   \n",
       "1          0            0  Accord Healthcare   \n",
       "\n",
       "                                                                                                                                                                                                                                                        text  \\\n",
       "0                                    We talk exclusively to  Accord Healthcare 's EU Supply Operations Director about the firms #supplychain  competence and agility in the crowded #healthcare  market  http:// bit.ly/2z3W22g   pic.twitter.com/jKuLRbUQqT   \n",
       "1  \"The equitable/legal title conundrum and claiming priority in #patent  applications\" \\n\\nRead our article following the  Accord Healthcare  Limited v Research Corporation Technologies Inc, 2017 decision:  http:// bit.ly/2yeZfrT    \\n\\n#priority  ...   \n",
       "\n",
       "     user_id      user_name                  string_date  \\\n",
       "0   60939437   SupplyChainD  accordhealthcare_2017-12-11   \n",
       "1  498639837  VennerShipley  accordhealthcare_2017-12-11   \n",
       "\n",
       "                                                                                                                                                                                            text_clean  \\\n",
       "0                                        we talk exclusively to accord healthcare s eu supply operations director about the firms supply chain competence and agility in the crowded healthcare market   \n",
       "1  the equitable legal title conundrum and claiming priority in patent applications read our article following the accord healthcare limited v research corporation technologies inc decision priority   \n",
       "\n",
       "   dup_100  \n",
       "0    False  \n",
       "1    False  "
      ]
     },
     "execution_count": 5,
     "metadata": {},
     "output_type": "execute_result"
    }
   ],
   "source": [
    "df.head(2)"
   ]
  },
  {
   "cell_type": "code",
   "execution_count": 6,
   "metadata": {},
   "outputs": [],
   "source": [
    "# on cherche si tous les éléments du search string sont dans le texte\n",
    "# la raison est que les termes #Bae #Systems, Bae   Systems, Bae #Systems doivent être valables pour Bae Systems\n",
    "# pareil j.p.morgan = jp morgan = j. p. morgan etc.\n",
    "# enlever les accennts aussi : giraffe cafés\n",
    "# attention Jäger = Jaeger, tenir compte de cela aussi\n",
    "# sainsburys retourne aussi sainsbury et jet2.com retourne jet2\n",
    "# la recherche sur twitter fonctionne comme cela\n",
    "def is_in_str(txt, st):\n",
    "    \n",
    "    no_punctuation = str.maketrans(string.punctuation, ' '*len(string.punctuation)) #map punctuation to space\n",
    "    \n",
    "    st = unidecode.unidecode(st).lower()\n",
    "    \n",
    "    st = st.replace('jet2.com', 'jet2') # avant la ponctuation\n",
    "    # il faudrait le relancer avec kukd.com aussi\n",
    "    st = st.replace('sainsburys', 'sainsbury')\n",
    "    \n",
    "    st = st.translate(no_punctuation)\n",
    "    st = ' '.join(st.split()) # no multiple whitespaces\n",
    "    \n",
    "    txt = txt.translate(no_punctuation)\n",
    "    txt = ' '.join(txt.split()) # no multiple whitespaces\n",
    "    txt = unidecode.unidecode(txt).lower()\n",
    "    \n",
    "    txt = txt.replace('jager', 'jaeger') # après la ponctuation\n",
    "    \n",
    "    return all([True if txt.find(s) != -1 else False for s in st.split()])"
   ]
  },
  {
   "cell_type": "code",
   "execution_count": 7,
   "metadata": {},
   "outputs": [
    {
     "name": "stdout",
     "output_type": "stream",
     "text": [
      "True\n",
      "True\n",
      "True\n"
     ]
    }
   ],
   "source": [
    "## tests\n",
    "test = 'Hi Jordan, would you send us your message via our FB page please? cheers, Jäger -John'\n",
    "print(is_in_str(test, 'Jaeger'))\n",
    "test = 'Hi Jordan, would you send us your message via our FB page please? cheers, jet2 -John'\n",
    "print(is_in_str(test, 'Jet2.com'))\n",
    "test = 'Hi Jordan, would you send us your message via our FB page please? cheers, #Bae #System -John'\n",
    "print(is_in_str(test, 'Bae System'))"
   ]
  },
  {
   "cell_type": "markdown",
   "metadata": {},
   "source": [
    "#### Check if search string is not in text"
   ]
  },
  {
   "cell_type": "code",
   "execution_count": 8,
   "metadata": {},
   "outputs": [
    {
     "data": {
      "application/vnd.jupyter.widget-view+json": {
       "model_id": "a2410fad05e742aaaf3b2b4736484682",
       "version_major": 2,
       "version_minor": 0
      },
      "text/plain": [
       "HBox(children=(IntProgress(value=0, max=15882669), HTML(value='')))"
      ]
     },
     "metadata": {},
     "output_type": "display_data"
    },
    {
     "name": "stdout",
     "output_type": "stream",
     "text": [
      "\n"
     ]
    }
   ],
   "source": [
    "df.loc[:,'str_in_text'] = df.progress_apply(lambda row: is_in_str(row['text'],row['search_string']), axis=1)"
   ]
  },
  {
   "cell_type": "code",
   "execution_count": 9,
   "metadata": {},
   "outputs": [
    {
     "data": {
      "text/plain": [
       "1439161"
      ]
     },
     "execution_count": 9,
     "metadata": {},
     "output_type": "execute_result"
    }
   ],
   "source": [
    "# Tweets with the string not it the tweet\n",
    "len(df[df.str_in_text == False])"
   ]
  },
  {
   "cell_type": "markdown",
   "metadata": {},
   "source": [
    "#### Check if search string is in the user_name"
   ]
  },
  {
   "cell_type": "code",
   "execution_count": 10,
   "metadata": {},
   "outputs": [
    {
     "data": {
      "application/vnd.jupyter.widget-view+json": {
       "model_id": "4113e721da6141fbac216d591d44ac00",
       "version_major": 2,
       "version_minor": 0
      },
      "text/plain": [
       "HBox(children=(IntProgress(value=0, max=15882669), HTML(value='')))"
      ]
     },
     "metadata": {},
     "output_type": "display_data"
    },
    {
     "name": "stdout",
     "output_type": "stream",
     "text": [
      "\n"
     ]
    }
   ],
   "source": [
    "df.loc[:,'str_in_user'] = df.progress_apply(lambda row: is_in_str(row['user_name'],row['search_string']), axis=1)"
   ]
  },
  {
   "cell_type": "code",
   "execution_count": 11,
   "metadata": {},
   "outputs": [
    {
     "data": {
      "text/plain": [
       "1216393"
      ]
     },
     "execution_count": 11,
     "metadata": {},
     "output_type": "execute_result"
    }
   ],
   "source": [
    "# Tweets with the string in user name\n",
    "len(df[df.str_in_user == True])"
   ]
  },
  {
   "cell_type": "markdown",
   "metadata": {},
   "source": [
    "#### Check if search string is in the conversation text"
   ]
  },
  {
   "cell_type": "code",
   "execution_count": 12,
   "metadata": {},
   "outputs": [],
   "source": [
    "def is_in_conv(id, conversation_id, st, str_in_text):\n",
    "    if (str_in_text == True) | (id == conversation_id) : # si la chaine est déjà dans le texte ou si pas de discussion\n",
    "        return False\n",
    "    else:\n",
    "        try:\n",
    "            conversation = df[df.id == conversation_id].text.values[0] # vérifie si le texte d'origie de la discussion existe\n",
    "            return is_in_str(conversation, st) # vérifie si la chaine est dans ce texte\n",
    "        except:\n",
    "            return False"
   ]
  },
  {
   "cell_type": "code",
   "execution_count": 13,
   "metadata": {},
   "outputs": [
    {
     "data": {
      "application/vnd.jupyter.widget-view+json": {
       "model_id": "4439e1d911b0454ba7103b56cf5c8e69",
       "version_major": 2,
       "version_minor": 0
      },
      "text/plain": [
       "HBox(children=(IntProgress(value=0, max=15882669), HTML(value='')))"
      ]
     },
     "metadata": {},
     "output_type": "display_data"
    },
    {
     "name": "stdout",
     "output_type": "stream",
     "text": [
      "\n"
     ]
    }
   ],
   "source": [
    "df.loc[:,'str_in_conv'] = df.progress_apply(lambda row: is_in_conv(row['id'],row['conversation_id'],row['search_string'],row['str_in_text']), axis=1)"
   ]
  },
  {
   "cell_type": "code",
   "execution_count": 14,
   "metadata": {},
   "outputs": [
    {
     "data": {
      "text/plain": [
       "572850"
      ]
     },
     "execution_count": 14,
     "metadata": {},
     "output_type": "execute_result"
    }
   ],
   "source": [
    "# Tweets with the string in the conversation text\n",
    "len(df[df.str_in_conv == True])"
   ]
  },
  {
   "cell_type": "markdown",
   "metadata": {},
   "source": [
    "### Save file"
   ]
  },
  {
   "cell_type": "code",
   "execution_count": 15,
   "metadata": {},
   "outputs": [
    {
     "data": {
      "text/html": [
       "<div>\n",
       "<style scoped>\n",
       "    .dataframe tbody tr th:only-of-type {\n",
       "        vertical-align: middle;\n",
       "    }\n",
       "\n",
       "    .dataframe tbody tr th {\n",
       "        vertical-align: top;\n",
       "    }\n",
       "\n",
       "    .dataframe thead th {\n",
       "        text-align: right;\n",
       "    }\n",
       "</style>\n",
       "<table border=\"1\" class=\"dataframe\">\n",
       "  <thead>\n",
       "    <tr style=\"text-align: right;\">\n",
       "      <th></th>\n",
       "      <th>id</th>\n",
       "      <th>conversation_id</th>\n",
       "      <th>date_end</th>\n",
       "      <th>date_start</th>\n",
       "      <th>datetime</th>\n",
       "      <th>is_quote</th>\n",
       "      <th>is_reply</th>\n",
       "      <th>is_retweet</th>\n",
       "      <th>nbr_favorite</th>\n",
       "      <th>nbr_reply</th>\n",
       "      <th>...</th>\n",
       "      <th>search_string</th>\n",
       "      <th>text</th>\n",
       "      <th>user_id</th>\n",
       "      <th>user_name</th>\n",
       "      <th>string_date</th>\n",
       "      <th>text_clean</th>\n",
       "      <th>dup_100</th>\n",
       "      <th>str_in_text</th>\n",
       "      <th>str_in_user</th>\n",
       "      <th>str_in_conv</th>\n",
       "    </tr>\n",
       "  </thead>\n",
       "  <tbody>\n",
       "    <tr>\n",
       "      <th>0</th>\n",
       "      <td>940606059626090496</td>\n",
       "      <td>940606059626090496</td>\n",
       "      <td>2018-02-25</td>\n",
       "      <td>2017-12-11</td>\n",
       "      <td>2017-12-12 16:35:34</td>\n",
       "      <td>False</td>\n",
       "      <td>False</td>\n",
       "      <td>False</td>\n",
       "      <td>3</td>\n",
       "      <td>0</td>\n",
       "      <td>...</td>\n",
       "      <td>Accord Healthcare</td>\n",
       "      <td>We talk exclusively to  Accord Healthcare 's EU Supply Operations Director about the firms #supplychain  competence and agility in the crowded #healthcare  market  http:// bit.ly/2z3W22g   pic.twitter.com/jKuLRbUQqT</td>\n",
       "      <td>60939437</td>\n",
       "      <td>SupplyChainD</td>\n",
       "      <td>accordhealthcare_2017-12-11</td>\n",
       "      <td>we talk exclusively to accord healthcare s eu supply operations director about the firms supply chain competence and agility in the crowded healthcare market</td>\n",
       "      <td>False</td>\n",
       "      <td>True</td>\n",
       "      <td>False</td>\n",
       "      <td>False</td>\n",
       "    </tr>\n",
       "    <tr>\n",
       "      <th>1</th>\n",
       "      <td>940254856471896064</td>\n",
       "      <td>940254856471896064</td>\n",
       "      <td>2018-02-25</td>\n",
       "      <td>2017-12-11</td>\n",
       "      <td>2017-12-11 17:20:01</td>\n",
       "      <td>False</td>\n",
       "      <td>False</td>\n",
       "      <td>False</td>\n",
       "      <td>0</td>\n",
       "      <td>0</td>\n",
       "      <td>...</td>\n",
       "      <td>Accord Healthcare</td>\n",
       "      <td>\"The equitable/legal title conundrum and claiming priority in #patent  applications\" \\n\\nRead our article following the  Accord Healthcare  Limited v Research Corporation Technologies Inc, 2017 decision:  http:// bit.ly/2yeZfrT    \\n\\n#priority  ...</td>\n",
       "      <td>498639837</td>\n",
       "      <td>VennerShipley</td>\n",
       "      <td>accordhealthcare_2017-12-11</td>\n",
       "      <td>the equitable legal title conundrum and claiming priority in patent applications read our article following the accord healthcare limited v research corporation technologies inc decision priority</td>\n",
       "      <td>False</td>\n",
       "      <td>True</td>\n",
       "      <td>False</td>\n",
       "      <td>False</td>\n",
       "    </tr>\n",
       "  </tbody>\n",
       "</table>\n",
       "<p>2 rows × 21 columns</p>\n",
       "</div>"
      ],
      "text/plain": [
       "                   id     conversation_id    date_end  date_start  \\\n",
       "0  940606059626090496  940606059626090496  2018-02-25  2017-12-11   \n",
       "1  940254856471896064  940254856471896064  2018-02-25  2017-12-11   \n",
       "\n",
       "              datetime  is_quote  is_reply  is_retweet  nbr_favorite  \\\n",
       "0  2017-12-12 16:35:34     False     False       False             3   \n",
       "1  2017-12-11 17:20:01     False     False       False             0   \n",
       "\n",
       "   nbr_reply  ...      search_string  \\\n",
       "0          0  ...  Accord Healthcare   \n",
       "1          0  ...  Accord Healthcare   \n",
       "\n",
       "                                                                                                                                                                                                                                                        text  \\\n",
       "0                                    We talk exclusively to  Accord Healthcare 's EU Supply Operations Director about the firms #supplychain  competence and agility in the crowded #healthcare  market  http:// bit.ly/2z3W22g   pic.twitter.com/jKuLRbUQqT   \n",
       "1  \"The equitable/legal title conundrum and claiming priority in #patent  applications\" \\n\\nRead our article following the  Accord Healthcare  Limited v Research Corporation Technologies Inc, 2017 decision:  http:// bit.ly/2yeZfrT    \\n\\n#priority  ...   \n",
       "\n",
       "     user_id      user_name                  string_date  \\\n",
       "0   60939437   SupplyChainD  accordhealthcare_2017-12-11   \n",
       "1  498639837  VennerShipley  accordhealthcare_2017-12-11   \n",
       "\n",
       "                                                                                                                                                                                            text_clean  \\\n",
       "0                                        we talk exclusively to accord healthcare s eu supply operations director about the firms supply chain competence and agility in the crowded healthcare market   \n",
       "1  the equitable legal title conundrum and claiming priority in patent applications read our article following the accord healthcare limited v research corporation technologies inc decision priority   \n",
       "\n",
       "  dup_100  str_in_text  str_in_user  str_in_conv  \n",
       "0   False         True        False        False  \n",
       "1   False         True        False        False  \n",
       "\n",
       "[2 rows x 21 columns]"
      ]
     },
     "execution_count": 15,
     "metadata": {},
     "output_type": "execute_result"
    }
   ],
   "source": [
    "df.head(2)"
   ]
  },
  {
   "cell_type": "code",
   "execution_count": 16,
   "metadata": {},
   "outputs": [],
   "source": [
    "OUTPUT_FILE_GZIP = './_sources_final/pickles/pression_sociale_rounds_1_2_3_corrected_search_str_opt_clean_text_dup100_clean_matches.pickle.gzip'"
   ]
  },
  {
   "cell_type": "code",
   "execution_count": 17,
   "metadata": {},
   "outputs": [],
   "source": [
    "df.to_pickle(OUTPUT_FILE_GZIP, compression='gzip')"
   ]
  },
  {
   "cell_type": "markdown",
   "metadata": {},
   "source": [
    "### Save control file"
   ]
  },
  {
   "cell_type": "code",
   "execution_count": 18,
   "metadata": {},
   "outputs": [],
   "source": [
    "#### Not in the tweet nor the user name"
   ]
  },
  {
   "cell_type": "code",
   "execution_count": 19,
   "metadata": {},
   "outputs": [
    {
     "data": {
      "text/plain": [
       "215495"
      ]
     },
     "execution_count": 19,
     "metadata": {},
     "output_type": "execute_result"
    }
   ],
   "source": [
    "len(df[(df['str_in_text'] == False) & (df['str_in_user'] == False) & (df['str_in_conv'] == False)])"
   ]
  },
  {
   "cell_type": "code",
   "execution_count": 20,
   "metadata": {},
   "outputs": [],
   "source": [
    "no_matches = df[(df['str_in_text'] == False) & (df['str_in_user'] == False) & (df['str_in_conv'] == False)]"
   ]
  },
  {
   "cell_type": "code",
   "execution_count": 21,
   "metadata": {},
   "outputs": [
    {
     "data": {
      "text/html": [
       "<div>\n",
       "<style scoped>\n",
       "    .dataframe tbody tr th:only-of-type {\n",
       "        vertical-align: middle;\n",
       "    }\n",
       "\n",
       "    .dataframe tbody tr th {\n",
       "        vertical-align: top;\n",
       "    }\n",
       "\n",
       "    .dataframe thead th {\n",
       "        text-align: right;\n",
       "    }\n",
       "</style>\n",
       "<table border=\"1\" class=\"dataframe\">\n",
       "  <thead>\n",
       "    <tr style=\"text-align: right;\">\n",
       "      <th></th>\n",
       "      <th>id</th>\n",
       "      <th>conversation_id</th>\n",
       "      <th>date_end</th>\n",
       "      <th>date_start</th>\n",
       "      <th>datetime</th>\n",
       "      <th>is_quote</th>\n",
       "      <th>is_reply</th>\n",
       "      <th>is_retweet</th>\n",
       "      <th>nbr_favorite</th>\n",
       "      <th>nbr_reply</th>\n",
       "      <th>...</th>\n",
       "      <th>search_string</th>\n",
       "      <th>text</th>\n",
       "      <th>user_id</th>\n",
       "      <th>user_name</th>\n",
       "      <th>string_date</th>\n",
       "      <th>text_clean</th>\n",
       "      <th>dup_100</th>\n",
       "      <th>str_in_text</th>\n",
       "      <th>str_in_user</th>\n",
       "      <th>str_in_conv</th>\n",
       "    </tr>\n",
       "  </thead>\n",
       "  <tbody>\n",
       "    <tr>\n",
       "      <th>50</th>\n",
       "      <td>859880346770395138</td>\n",
       "      <td>859762834015752192</td>\n",
       "      <td>2017-05-15</td>\n",
       "      <td>2017-02-28</td>\n",
       "      <td>2017-05-03 23:20:25</td>\n",
       "      <td>False</td>\n",
       "      <td>True</td>\n",
       "      <td>False</td>\n",
       "      <td>1</td>\n",
       "      <td>0</td>\n",
       "      <td>...</td>\n",
       "      <td>Actavo</td>\n",
       "      <td>@ countryboy606  Fake news....!</td>\n",
       "      <td>2894787904</td>\n",
       "      <td>greenshame</td>\n",
       "      <td>actavo_2017-02-28</td>\n",
       "      <td>countryboy fake news</td>\n",
       "      <td>False</td>\n",
       "      <td>False</td>\n",
       "      <td>False</td>\n",
       "      <td>False</td>\n",
       "    </tr>\n",
       "    <tr>\n",
       "      <th>51</th>\n",
       "      <td>859879226215976962</td>\n",
       "      <td>859762834015752192</td>\n",
       "      <td>2017-05-15</td>\n",
       "      <td>2017-02-28</td>\n",
       "      <td>2017-05-03 23:15:57</td>\n",
       "      <td>False</td>\n",
       "      <td>True</td>\n",
       "      <td>False</td>\n",
       "      <td>0</td>\n",
       "      <td>0</td>\n",
       "      <td>...</td>\n",
       "      <td>Actavo</td>\n",
       "      <td>Like the Figures from any Gov department are so Accurate.  Garda.  Housing.  Hospital.  Homeless.  Gov Spin.</td>\n",
       "      <td>128258493</td>\n",
       "      <td>countryboy606</td>\n",
       "      <td>actavo_2017-02-28</td>\n",
       "      <td>like the figures from any gov department are so accurate garda housing hospital homeless gov spin</td>\n",
       "      <td>False</td>\n",
       "      <td>False</td>\n",
       "      <td>False</td>\n",
       "      <td>False</td>\n",
       "    </tr>\n",
       "    <tr>\n",
       "      <th>56</th>\n",
       "      <td>859461174513086464</td>\n",
       "      <td>859439099136139265</td>\n",
       "      <td>2017-05-15</td>\n",
       "      <td>2017-02-28</td>\n",
       "      <td>2017-05-02 19:34:46</td>\n",
       "      <td>False</td>\n",
       "      <td>True</td>\n",
       "      <td>False</td>\n",
       "      <td>2</td>\n",
       "      <td>0</td>\n",
       "      <td>...</td>\n",
       "      <td>Actavo</td>\n",
       "      <td>We like this write up #innovation  #creative  #development</td>\n",
       "      <td>3212099602</td>\n",
       "      <td>THINK_KLAWZ</td>\n",
       "      <td>actavo_2017-02-28</td>\n",
       "      <td>we like this write up innovation</td>\n",
       "      <td>False</td>\n",
       "      <td>False</td>\n",
       "      <td>False</td>\n",
       "      <td>False</td>\n",
       "    </tr>\n",
       "    <tr>\n",
       "      <th>57</th>\n",
       "      <td>859451287217332224</td>\n",
       "      <td>859439099136139265</td>\n",
       "      <td>2017-05-15</td>\n",
       "      <td>2017-02-28</td>\n",
       "      <td>2017-05-02 18:55:29</td>\n",
       "      <td>False</td>\n",
       "      <td>True</td>\n",
       "      <td>False</td>\n",
       "      <td>3</td>\n",
       "      <td>1</td>\n",
       "      <td>...</td>\n",
       "      <td>Actavo</td>\n",
       "      <td>Brilliant write up @TIGER_KLAWZ springs to mind #innovation  #creative  #development</td>\n",
       "      <td>1277775534</td>\n",
       "      <td>TIGERSALTD</td>\n",
       "      <td>actavo_2017-02-28</td>\n",
       "      <td>brilliant write up springs to mind innovation</td>\n",
       "      <td>False</td>\n",
       "      <td>False</td>\n",
       "      <td>False</td>\n",
       "      <td>False</td>\n",
       "    </tr>\n",
       "    <tr>\n",
       "      <th>353</th>\n",
       "      <td>855210317684649984</td>\n",
       "      <td>854810320761745408</td>\n",
       "      <td>2017-05-15</td>\n",
       "      <td>2017-02-28</td>\n",
       "      <td>2017-04-21 02:03:23</td>\n",
       "      <td>False</td>\n",
       "      <td>False</td>\n",
       "      <td>False</td>\n",
       "      <td>0</td>\n",
       "      <td>0</td>\n",
       "      <td>...</td>\n",
       "      <td>Actavo</td>\n",
       "      <td>Wrexham underway. Tullamore IRE also, others?</td>\n",
       "      <td>331137622</td>\n",
       "      <td>ADXGuy</td>\n",
       "      <td>actavo_2017-02-28</td>\n",
       "      <td>wrexham underway tullamore ire also others</td>\n",
       "      <td>False</td>\n",
       "      <td>False</td>\n",
       "      <td>False</td>\n",
       "      <td>False</td>\n",
       "    </tr>\n",
       "  </tbody>\n",
       "</table>\n",
       "<p>5 rows × 21 columns</p>\n",
       "</div>"
      ],
      "text/plain": [
       "                     id     conversation_id    date_end  date_start  \\\n",
       "50   859880346770395138  859762834015752192  2017-05-15  2017-02-28   \n",
       "51   859879226215976962  859762834015752192  2017-05-15  2017-02-28   \n",
       "56   859461174513086464  859439099136139265  2017-05-15  2017-02-28   \n",
       "57   859451287217332224  859439099136139265  2017-05-15  2017-02-28   \n",
       "353  855210317684649984  854810320761745408  2017-05-15  2017-02-28   \n",
       "\n",
       "                datetime  is_quote  is_reply  is_retweet  nbr_favorite  \\\n",
       "50   2017-05-03 23:20:25     False      True       False             1   \n",
       "51   2017-05-03 23:15:57     False      True       False             0   \n",
       "56   2017-05-02 19:34:46     False      True       False             2   \n",
       "57   2017-05-02 18:55:29     False      True       False             3   \n",
       "353  2017-04-21 02:03:23     False     False       False             0   \n",
       "\n",
       "     nbr_reply  ...  search_string  \\\n",
       "50           0  ...         Actavo   \n",
       "51           0  ...         Actavo   \n",
       "56           0  ...         Actavo   \n",
       "57           1  ...         Actavo   \n",
       "353          0  ...         Actavo   \n",
       "\n",
       "                                                                                                             text  \\\n",
       "50                                                                                @ countryboy606  Fake news....!   \n",
       "51   Like the Figures from any Gov department are so Accurate.  Garda.  Housing.  Hospital.  Homeless.  Gov Spin.   \n",
       "56                                                     We like this write up #innovation  #creative  #development   \n",
       "57                           Brilliant write up @TIGER_KLAWZ springs to mind #innovation  #creative  #development   \n",
       "353                                                                 Wrexham underway. Tullamore IRE also, others?   \n",
       "\n",
       "        user_id      user_name        string_date  \\\n",
       "50   2894787904     greenshame  actavo_2017-02-28   \n",
       "51    128258493  countryboy606  actavo_2017-02-28   \n",
       "56   3212099602    THINK_KLAWZ  actavo_2017-02-28   \n",
       "57   1277775534     TIGERSALTD  actavo_2017-02-28   \n",
       "353   331137622         ADXGuy  actavo_2017-02-28   \n",
       "\n",
       "                                                                                            text_clean  \\\n",
       "50                                                                                countryboy fake news   \n",
       "51   like the figures from any gov department are so accurate garda housing hospital homeless gov spin   \n",
       "56                                                                    we like this write up innovation   \n",
       "57                                                       brilliant write up springs to mind innovation   \n",
       "353                                                         wrexham underway tullamore ire also others   \n",
       "\n",
       "    dup_100  str_in_text  str_in_user  str_in_conv  \n",
       "50    False        False        False        False  \n",
       "51    False        False        False        False  \n",
       "56    False        False        False        False  \n",
       "57    False        False        False        False  \n",
       "353   False        False        False        False  \n",
       "\n",
       "[5 rows x 21 columns]"
      ]
     },
     "execution_count": 21,
     "metadata": {},
     "output_type": "execute_result"
    }
   ],
   "source": [
    "no_matches.head()"
   ]
  },
  {
   "cell_type": "code",
   "execution_count": 22,
   "metadata": {},
   "outputs": [],
   "source": [
    "OUTPUT_CONTROL_FILE = './_sources_final/controls/04_no_matches.xls'"
   ]
  },
  {
   "cell_type": "code",
   "execution_count": 23,
   "metadata": {},
   "outputs": [],
   "source": [
    "no_matches[:1000].to_excel(OUTPUT_CONTROL_FILE)"
   ]
  },
  {
   "cell_type": "code",
   "execution_count": null,
   "metadata": {},
   "outputs": [],
   "source": []
  },
  {
   "cell_type": "code",
   "execution_count": null,
   "metadata": {},
   "outputs": [],
   "source": []
  },
  {
   "cell_type": "code",
   "execution_count": null,
   "metadata": {},
   "outputs": [],
   "source": []
  },
  {
   "cell_type": "code",
   "execution_count": null,
   "metadata": {},
   "outputs": [],
   "source": []
  }
 ],
 "metadata": {
  "kernelspec": {
   "display_name": "Python 3",
   "language": "python",
   "name": "python3"
  },
  "language_info": {
   "codemirror_mode": {
    "name": "ipython",
    "version": 3
   },
   "file_extension": ".py",
   "mimetype": "text/x-python",
   "name": "python",
   "nbconvert_exporter": "python",
   "pygments_lexer": "ipython3",
   "version": "3.6.8"
  }
 },
 "nbformat": 4,
 "nbformat_minor": 2
}
